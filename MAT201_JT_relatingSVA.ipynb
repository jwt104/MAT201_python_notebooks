{
 "cells": [
  {
   "cell_type": "markdown",
   "id": "6ec91ce8",
   "metadata": {
    "id": "6ec91ce8"
   },
   "source": [
    "# Displacement, Velocity and Acceleration by Integration & Differentiation\n",
    "\n",
    "Interactive code to illustrate concepts from MAT201 at Abertay University (JT 2022).\n",
    "\n",
    "Using Python's symbolic computation library, we will explore how displacement, velocity and acceleration are related, first in the case of uniform acceleration.\n",
    "\n",
    "If you have not already done so, please check out the MAT201 Python introduction notebook to better understand the content shown here."
   ]
  },
  {
   "cell_type": "markdown",
   "id": "-I-mGQzvALt3",
   "metadata": {
    "id": "-I-mGQzvALt3"
   },
   "source": [
    "In Lecture 1 of our Dynamics component of MAT201, we saw how to relate velocity, displacement and acceleration mathematically. Lecture two also focusses on expanding on these ideas, using Newton's Second Law to relate forces acting on objects with non-constant acceleration. The ultimate goal of both lectures is the same: given some information about an object, can you determine other related properties/behaviour using mathematics? \n",
    "\n",
    "We'll repeat some of the examples we carried out in Lectures 1 and 2, with the help of Python. To do this, we'll require a library for symbolic computation called *sympy*. This library lets Python play with symbols, rather than numbers, and even solve algebraic equations. The first section in this worksheet will briefly demonstrate some key features of sympy (though more extensive documentation can easily be found online). Section 2 will explore applying these tools to uniform acceleration (Lecture 1) while Section 3 will focus on the behaviour of an object subject to a resistive force (non-constant acceleration, Lecture 2)."
   ]
  },
  {
   "cell_type": "markdown",
   "id": "pTx6EHP_0hl6",
   "metadata": {
    "id": "pTx6EHP_0hl6"
   },
   "source": [
    "Let's go ahead and load in the libraries we need: in this case, we'll focus solely on sympy:\n"
   ]
  },
  {
   "cell_type": "code",
   "execution_count": null,
   "id": "c10d447e",
   "metadata": {
    "id": "c10d447e"
   },
   "outputs": [],
   "source": [
    "%matplotlib inline\n",
    "import sympy as sym"
   ]
  },
  {
   "cell_type": "markdown",
   "id": "7ny-gu7P511s",
   "metadata": {
    "id": "7ny-gu7P511s"
   },
   "source": [
    "## Relating acceleration, velocity and displacement by differentiation and integration:\n",
    "\n",
    "In the lectures we saw that \n",
    "\\begin{equation}\n",
    "\\int^s_{s_0} {\\rm d}x = \\int^t_0 v~{\\rm{d}}t.\n",
    "\\end{equation}\n",
    "This means that if we know the velocity, expressed as a function of time, we can **integrate** this to determine the displacement of the object (relative to its initial displacement). The constants of integration determine the range over which we're interested, usually between a time $t=$ (when the displacement is $s_0$) to some other time $t$ (when the displacement will be $s$).\n",
    "Alternatively, if we know an expression describing the displacement as a function of time, we can **differentiate** this expression w.r.t time in order to determine the velocity (and the constants of integration will vanish).\n",
    "\n",
    "\n",
    "We can see this in action in the examples shown in the lectures. In the first example we were told an expression describing the displacement $s=16t\\left(4-t\\right)$ and told to identify\n",
    "\n",
    "\n",
    "1.   The time the object comes to rest.\n",
    "2.   The initial velocity.\n",
    "3.   The distance moved when the velocity is half its initial value.\n",
    "4.   The acceleration when $t=4$.\n",
    "\n",
    "Lets convert our expression to an equation in Python:"
   ]
  },
  {
   "cell_type": "code",
   "execution_count": null,
   "id": "WfU-wy2U5jIn",
   "metadata": {
    "id": "WfU-wy2U5jIn"
   },
   "outputs": [],
   "source": [
    "t = sym.Symbol('t')\n",
    "s = 16 * t * ( 4 - t )"
   ]
  },
  {
   "cell_type": "markdown",
   "id": "vu_s0ZmX9OOp",
   "metadata": {
    "id": "vu_s0ZmX9OOp"
   },
   "source": [
    "To evaluate the time when the velocity is zero, we need to recognise $v={\\rm{d}}s/{\\rm{d}}t$, so we require the time when the first derivative equals zero:"
   ]
  },
  {
   "cell_type": "code",
   "execution_count": null,
   "id": "ZnkrlVVb897c",
   "metadata": {
    "colab": {
     "base_uri": "https://localhost:8080/"
    },
    "executionInfo": {
     "elapsed": 11,
     "status": "ok",
     "timestamp": 1647430378738,
     "user": {
      "displayName": "James Threlfall",
      "photoUrl": "https://lh3.googleusercontent.com/a-/AOh14Gh5AMmwJn-QgnyAtyVfjDwEfQL-5FfwAhQ1uZjJ=s64",
      "userId": "12893452708265254015"
     },
     "user_tz": 0
    },
    "id": "ZnkrlVVb897c",
    "outputId": "4aa69917-bd32-4ac3-b557-cf84f9a1fbfc"
   },
   "outputs": [
    {
     "name": "stdout",
     "output_type": "stream",
     "text": [
      "1. = [2]\n"
     ]
    }
   ],
   "source": [
    "time_whenatrest = sym.solve( sym.diff(s, t), t)\n",
    "print(\"1. =\", time_whenatrest)"
   ]
  },
  {
   "cell_type": "markdown",
   "id": "1GRLDR8h9-Ge",
   "metadata": {
    "id": "1GRLDR8h9-Ge"
   },
   "source": [
    "We can similarly solve for the initial velocity when $t=0$:"
   ]
  },
  {
   "cell_type": "code",
   "execution_count": null,
   "id": "GyQg2Xmj9qOK",
   "metadata": {
    "colab": {
     "base_uri": "https://localhost:8080/"
    },
    "executionInfo": {
     "elapsed": 10,
     "status": "ok",
     "timestamp": 1647430378739,
     "user": {
      "displayName": "James Threlfall",
      "photoUrl": "https://lh3.googleusercontent.com/a-/AOh14Gh5AMmwJn-QgnyAtyVfjDwEfQL-5FfwAhQ1uZjJ=s64",
      "userId": "12893452708265254015"
     },
     "user_tz": 0
    },
    "id": "GyQg2Xmj9qOK",
    "outputId": "0316cc41-b822-4d8a-a4c3-00eb0a282a35"
   },
   "outputs": [
    {
     "name": "stdout",
     "output_type": "stream",
     "text": [
      "2. =  64.0000000000000\n"
     ]
    }
   ],
   "source": [
    "v = sym.diff(s, t)\n",
    "v_initial = v.evalf( subs={t:0} )\n",
    "print(\"2. = \", v_initial)"
   ]
  },
  {
   "cell_type": "markdown",
   "id": "cpGXcpAEB5Ao",
   "metadata": {
    "id": "cpGXcpAEB5Ao"
   },
   "source": [
    "The distance when the velocity is half of the initial value"
   ]
  },
  {
   "cell_type": "code",
   "execution_count": null,
   "id": "JSklLvYc-K7J",
   "metadata": {
    "colab": {
     "base_uri": "https://localhost:8080/"
    },
    "executionInfo": {
     "elapsed": 8,
     "status": "ok",
     "timestamp": 1647430378739,
     "user": {
      "displayName": "James Threlfall",
      "photoUrl": "https://lh3.googleusercontent.com/a-/AOh14Gh5AMmwJn-QgnyAtyVfjDwEfQL-5FfwAhQ1uZjJ=s64",
      "userId": "12893452708265254015"
     },
     "user_tz": 0
    },
    "id": "JSklLvYc-K7J",
    "outputId": "514ca901-6c3b-4175-e50a-cfe7e50251c5"
   },
   "outputs": [
    {
     "name": "stdout",
     "output_type": "stream",
     "text": [
      "3. =  48.0000000000000\n"
     ]
    }
   ],
   "source": [
    "v_halfinitial = 0.5 * v_initial\n",
    "t_halfinitialv = sym.solve(v - v_halfinitial,t)\n",
    "s_halfinitialv = s.evalf(subs={t:t_halfinitialv[0]})\n",
    "print(\"3. = \", s_halfinitialv)"
   ]
  },
  {
   "cell_type": "markdown",
   "id": "Q-LOniLkIAcj",
   "metadata": {
    "id": "Q-LOniLkIAcj"
   },
   "source": [
    "The final part of the question requires calculation of velocity. Again from the lectures, we learned \\begin{equation} \\int_u^v ~{\\rm{d}}v = \\int_0^ta~{\\rm{d}}t.\\end{equation}\n",
    "This means that find an acceleration from a velocity, we differentiate velocity in time $a={\\rm{d}}v/{\\rm{d}}t$. If instead we know acceleration and require velocity, we must integrate.\n",
    "\n",
    "For part four, we must differentiate our expression for velocity, which is the second derivative of the expression for position:\n"
   ]
  },
  {
   "cell_type": "code",
   "execution_count": null,
   "id": "p4NGN8ClCcr7",
   "metadata": {
    "colab": {
     "base_uri": "https://localhost:8080/"
    },
    "executionInfo": {
     "elapsed": 7,
     "status": "ok",
     "timestamp": 1647430378739,
     "user": {
      "displayName": "James Threlfall",
      "photoUrl": "https://lh3.googleusercontent.com/a-/AOh14Gh5AMmwJn-QgnyAtyVfjDwEfQL-5FfwAhQ1uZjJ=s64",
      "userId": "12893452708265254015"
     },
     "user_tz": 0
    },
    "id": "p4NGN8ClCcr7",
    "outputId": "8dec70c9-125a-4368-d60a-1ac9a4055e25"
   },
   "outputs": [
    {
     "name": "stdout",
     "output_type": "stream",
     "text": [
      "4. = -32\n"
     ]
    }
   ],
   "source": [
    "accel = sym.diff( s, t, t)\n",
    "print(\"4. =\", accel)"
   ]
  },
  {
   "cell_type": "markdown",
   "id": "Bw4ZQsPcJax_",
   "metadata": {
    "id": "Bw4ZQsPcJax_"
   },
   "source": [
    "Note that the acceleration here is a constant. This means that this system adheres to the equations of motion for constant acceleration derived in MAT101:\n",
    "\\begin{eqnarray}\n",
    "v &=& u + at, \\\\\n",
    "v^2 &=& u^2 + 2as, \\\\\n",
    "s &=& ut + \\frac{1}{2}at^2.\n",
    "\\end{eqnarray}\n",
    "\n",
    "Note that these expressions also differentiate or integrate to return each other, for example differentiating the expression for displacement returns:\n"
   ]
  },
  {
   "cell_type": "code",
   "execution_count": null,
   "id": "UnKJfSp-K84x",
   "metadata": {
    "colab": {
     "base_uri": "https://localhost:8080/"
    },
    "executionInfo": {
     "elapsed": 275,
     "status": "ok",
     "timestamp": 1647430379008,
     "user": {
      "displayName": "James Threlfall",
      "photoUrl": "https://lh3.googleusercontent.com/a-/AOh14Gh5AMmwJn-QgnyAtyVfjDwEfQL-5FfwAhQ1uZjJ=s64",
      "userId": "12893452708265254015"
     },
     "user_tz": 0
    },
    "id": "UnKJfSp-K84x",
    "outputId": "1215b89d-26bb-4f6d-d34b-f938873ad9b4"
   },
   "outputs": [
    {
     "name": "stdout",
     "output_type": "stream",
     "text": [
      "s= 0.5*a*t**2 + t*u\n",
      "ds/dt= 1.0*a*t + u\n"
     ]
    }
   ],
   "source": [
    "u = sym.Symbol('u')\n",
    "a = sym.Symbol('a')\n",
    "s = u * t + 0.5 * a * t ** 2\n",
    "print(\"s=\", s) \n",
    "v = sym.diff(s,t)\n",
    "print(\"ds/dt=\", v)"
   ]
  },
  {
   "cell_type": "markdown",
   "id": "LHpvw27MM42q",
   "metadata": {
    "id": "LHpvw27MM42q"
   },
   "source": [
    "Python has rearranged the equations to that the highest power of t is first: this is because mathematicians usually arrange their equations in order of powers, with the highest power of the primary variable at the beginning."
   ]
  },
  {
   "cell_type": "markdown",
   "id": "Tyrtmz1MP1tI",
   "metadata": {
    "id": "Tyrtmz1MP1tI"
   },
   "source": [
    "## Variable acceleration\n",
    "\n",
    "We've now seen an example of how Python can be used to tackle problems of integration and differentiation in the case where the acceleration is constant. Many problems we will encounter involving motion of bodies will contain forces (and hence accelerations) which vary in time.\n",
    "\n",
    "We can use exactly the same tricks to try to solve these problems using *sympy*. To illustrate this, we'll work through a video example we saw in Lecture 2. NB: Python is great at solving symbolic maths problems but **you have to set up the problem correctly yourself first**: Python will try to solve any problem set before it, even if it is different to the problem you are actually trying to solve! You will see this in this example: we have to arrange the problem in a specific way for Python to solve.\n",
    "\n",
    "Q: A body of mass $2~{\\rm{kg}}$ is projected on a rough horizontal table which exerts a resistance given by $5v/2$ Newtons for velocity $v$. The initial velocity of the mass is $8~{\\rm{ms}}^{-1}$. Find the time taken for the velocity to equal $4~{\\rm{ms}}^{-1}$ and find the distance travelled in this time.\n",
    "\n",
    "We'll start by defining variables and functions, and convert the force in the question into an acceleration through Newton's Second Law:"
   ]
  },
  {
   "cell_type": "code",
   "execution_count": null,
   "id": "Y1PVmURWMLdR",
   "metadata": {
    "colab": {
     "base_uri": "https://localhost:8080/"
    },
    "executionInfo": {
     "elapsed": 8,
     "status": "ok",
     "timestamp": 1647430379009,
     "user": {
      "displayName": "James Threlfall",
      "photoUrl": "https://lh3.googleusercontent.com/a-/AOh14Gh5AMmwJn-QgnyAtyVfjDwEfQL-5FfwAhQ1uZjJ=s64",
      "userId": "12893452708265254015"
     },
     "user_tz": 0
    },
    "id": "Y1PVmURWMLdR",
    "outputId": "57f39d50-e7dd-433b-c7d0-132ff5aa7146"
   },
   "outputs": [
    {
     "name": "stdout",
     "output_type": "stream",
     "text": [
      "a= -1.25*v\n"
     ]
    }
   ],
   "source": [
    "v = sym.Symbol('v',real=True)\n",
    "t = sym.Symbol('t',real=True)\n",
    "v_ini = 8\n",
    "mass = 2.0\n",
    "F_res = -5.0 * v / 2.0\n",
    "a = F_res/mass\n",
    "print(\"a=\",a)"
   ]
  },
  {
   "cell_type": "markdown",
   "id": "i3RREls4a-3j",
   "metadata": {
    "id": "i3RREls4a-3j"
   },
   "source": [
    "NB we have specifically restricted the type of variable $v$ and $t$ can be, so that Python won't look for Imaginary solutions later on in the calculation."
   ]
  },
  {
   "cell_type": "markdown",
   "id": "VH9C0nfWSBFF",
   "metadata": {
    "id": "VH9C0nfWSBFF"
   },
   "source": [
    "From the lectures, we know that acceleration is the rate of change of velocity with time: \n",
    "\\begin{equation} a=\\frac{{\\rm{d}}v}{{\\rm{d}}t}.\n",
    "\\end{equation}\n",
    "This is a separable differential equation; multiplying both sides by ${\\rm{d}}t$ and integrating yields:\n",
    "\\begin{equation} \n",
    "\\int_{t=0}^{t=t}{a(t)}~{\\rm{d}}t=\\int_{v=u}^{v=v}{\\rm{d}}v.\n",
    "\\end{equation}\n",
    "However, our expression for acceleration depends on $v$, not $t$ (for now). So we must move any velocity dependence over to the right hand side, because this is where all the velocity terms are:\n",
    "\\begin{eqnarray} \n",
    "\\int_{0}^{t}\\frac{5v}{4}~{\\rm{d}}t&=&\\int_{u}^{v}{\\rm{d}}v, \\\\\n",
    "\\int_{0}^{t}\\frac{5}{4}~{\\rm{d}}t&=&\\int_{u}^{v}\\frac{{\\rm{d}}v}{v}.\n",
    "\\end{eqnarray}\n",
    "This is now an integral equation we can handle: lets make Python solve the left and right hand sides seperately:"
   ]
  },
  {
   "cell_type": "code",
   "execution_count": null,
   "id": "c7B4i5SXRpN_",
   "metadata": {
    "colab": {
     "base_uri": "https://localhost:8080/"
    },
    "executionInfo": {
     "elapsed": 5,
     "status": "ok",
     "timestamp": 1647430379009,
     "user": {
      "displayName": "James Threlfall",
      "photoUrl": "https://lh3.googleusercontent.com/a-/AOh14Gh5AMmwJn-QgnyAtyVfjDwEfQL-5FfwAhQ1uZjJ=s64",
      "userId": "12893452708265254015"
     },
     "user_tz": 0
    },
    "id": "c7B4i5SXRpN_",
    "outputId": "cf91816c-c3ea-4685-f2d6-33a80351c27d"
   },
   "outputs": [
    {
     "name": "stdout",
     "output_type": "stream",
     "text": [
      "lhs:  -1.25*t\n",
      "rhs:  1.0*log(v) - 1.0*log(8)\n"
     ]
    }
   ],
   "source": [
    "lhs = sym.integrate(a / v,(t, 0, t))\n",
    "print(\"lhs: \",lhs)\n",
    "rhs = sym.integrate(1.0 / v,(v, v_ini, v))\n",
    "print(\"rhs: \",rhs)"
   ]
  },
  {
   "cell_type": "markdown",
   "id": "oV2O0wPsZWEi",
   "metadata": {
    "id": "oV2O0wPsZWEi"
   },
   "source": [
    "Having integrated each side separately, we can move one result over to the other side and ask Python to solve the equation \"RHS-LHS=0\":"
   ]
  },
  {
   "cell_type": "code",
   "execution_count": null,
   "id": "OLX47As8Xal3",
   "metadata": {
    "colab": {
     "base_uri": "https://localhost:8080/"
    },
    "executionInfo": {
     "elapsed": 233,
     "status": "ok",
     "timestamp": 1647430379239,
     "user": {
      "displayName": "James Threlfall",
      "photoUrl": "https://lh3.googleusercontent.com/a-/AOh14Gh5AMmwJn-QgnyAtyVfjDwEfQL-5FfwAhQ1uZjJ=s64",
      "userId": "12893452708265254015"
     },
     "user_tz": 0
    },
    "id": "OLX47As8Xal3",
    "outputId": "fdf4d2ae-4dce-4589-dee1-b9b7870e5b85"
   },
   "outputs": [
    {
     "name": "stdout",
     "output_type": "stream",
     "text": [
      "v(t): [8.0*exp(-1.25*t)]\n"
     ]
    }
   ],
   "source": [
    "solution = sym.solve(rhs - lhs, v)\n",
    "print(\"v(t):\",solution)"
   ]
  },
  {
   "cell_type": "markdown",
   "id": "hcpoO9yjbRBj",
   "metadata": {
    "id": "hcpoO9yjbRBj"
   },
   "source": [
    "So our particular solution matches that found in the video example. Now our task is to see which value of $t$ makes this expression equal $4{\\rm{ms}}^{-1}$:"
   ]
  },
  {
   "cell_type": "code",
   "execution_count": null,
   "id": "yRnDCX76YIJV",
   "metadata": {
    "colab": {
     "base_uri": "https://localhost:8080/"
    },
    "executionInfo": {
     "elapsed": 294,
     "status": "ok",
     "timestamp": 1647430379532,
     "user": {
      "displayName": "James Threlfall",
      "photoUrl": "https://lh3.googleusercontent.com/a-/AOh14Gh5AMmwJn-QgnyAtyVfjDwEfQL-5FfwAhQ1uZjJ=s64",
      "userId": "12893452708265254015"
     },
     "user_tz": 0
    },
    "id": "yRnDCX76YIJV",
    "outputId": "41f662e5-db44-4bdd-ab93-03146ad4f064"
   },
   "outputs": [
    {
     "name": "stdout",
     "output_type": "stream",
     "text": [
      "time taken for v=4m/s:  [0.554517744447956]\n"
     ]
    }
   ],
   "source": [
    "v_4 = 4.0\n",
    "t_4 = sym.solve(solution[0] - v_4, t)\n",
    "print(\"time taken for v=4m/s: \", t_4)"
   ]
  },
  {
   "cell_type": "markdown",
   "id": "Q38g08PcbmwE",
   "metadata": {
    "id": "Q38g08PcbmwE"
   },
   "source": [
    "The question also asks us to evaluate an expression for the displacement travelled in this time. We know that displacement and velocity are related via $v={\\rm{d}s}/{\\rm{d}}t$, so we can again multiply both sides by ${\\rm{d}}t$ to create an integral equation:\n",
    "\\begin{equation}\n",
    "\\int_0^t{v}~{\\rm{d}}t=\\int_{s_0}^s {\\rm{d}}s.\n",
    "\\end{equation}\n",
    "The right hand side of this equation simply integrates to $s-s_0$, for initial displacement $s(t=0)=s_0$. If we assume this initial displacement is zero, then all we really want to know to answer the question is:\n",
    "to \n",
    "\n",
    "*   integrate the velocity once in time (yielding a general expression for the displacement as a function of time)\n",
    "*   evaluate that expression at the time we obtained earlier:\n",
    "\n"
   ]
  },
  {
   "cell_type": "code",
   "execution_count": null,
   "id": "20LBoauaaWf6",
   "metadata": {
    "colab": {
     "base_uri": "https://localhost:8080/"
    },
    "executionInfo": {
     "elapsed": 280,
     "status": "ok",
     "timestamp": 1647430379810,
     "user": {
      "displayName": "James Threlfall",
      "photoUrl": "https://lh3.googleusercontent.com/a-/AOh14Gh5AMmwJn-QgnyAtyVfjDwEfQL-5FfwAhQ1uZjJ=s64",
      "userId": "12893452708265254015"
     },
     "user_tz": 0
    },
    "id": "20LBoauaaWf6",
    "outputId": "be11abde-ea9a-4568-ac7f-070d230a60c5"
   },
   "outputs": [
    {
     "name": "stdout",
     "output_type": "stream",
     "text": [
      "s(t)= 6.4 - 6.4*exp(-1.25*t)\n",
      "s(0.5545177)= 3.20000000000000\n"
     ]
    }
   ],
   "source": [
    "s = sym.integrate(solution[0],(t, 0, t))\n",
    "print(\"s(t)=\",s)\n",
    "s_t4 = s.evalf(subs={t:t_4[0]})\n",
    "print(\"s(0.5545177)=\",s_t4)"
   ]
  },
  {
   "cell_type": "markdown",
   "id": "z_GIwR5qd5Vt",
   "metadata": {
    "id": "z_GIwR5qd5Vt"
   },
   "source": [
    "The values we obtain for the time and displacement when the velocity reduces to $4{\\rm{ms}}^{-1}$ agrees with the values seen in the example video performed by hand."
   ]
  },
  {
   "cell_type": "markdown",
   "id": "5Xx1l_GIeSVv",
   "metadata": {
    "id": "5Xx1l_GIeSVv"
   },
   "source": [
    "## Over To You\n",
    "\n",
    "This worksheet illustrates how to use symbolic Python to relate displacement, velocity and acceleration through integration and differentiation. However, care has to be taken to set up the integral/differential equation correctly, depending on the objective.\n",
    "\n",
    "Try this for yourself: identify one or two completed tutorial questions or lecture examples and see if you can repeat the processes seen above to complete the question using Python."
   ]
  },
  {
   "cell_type": "code",
   "execution_count": null,
   "id": "Aeyazb_7dJNj",
   "metadata": {
    "id": "Aeyazb_7dJNj"
   },
   "outputs": [],
   "source": []
  }
 ],
 "metadata": {
  "colab": {
   "collapsed_sections": [],
   "name": "01_JT_relating_displacement_velocity_and_acceleration",
   "provenance": []
  },
  "kernelspec": {
   "display_name": "Python 3 (ipykernel)",
   "language": "python",
   "name": "python3"
  },
  "language_info": {
   "codemirror_mode": {
    "name": "ipython",
    "version": 3
   },
   "file_extension": ".py",
   "mimetype": "text/x-python",
   "name": "python",
   "nbconvert_exporter": "python",
   "pygments_lexer": "ipython3",
   "version": "3.8.9"
  }
 },
 "nbformat": 4,
 "nbformat_minor": 5
}
