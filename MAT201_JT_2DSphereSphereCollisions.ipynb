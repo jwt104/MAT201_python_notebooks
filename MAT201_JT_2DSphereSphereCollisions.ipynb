{
 "cells": [
  {
   "cell_type": "markdown",
   "id": "6ec91ce8",
   "metadata": {
    "id": "6ec91ce8"
   },
   "source": [
    "# 2D Oblique Sphere Collisions\n",
    "\n",
    "Interactive code to illustrate concepts from MAT201 at Abertay University (JT 2022).\n",
    "\n",
    "Visualisation of ball collision with another ball. \n",
    "Post impact trajectories determined by solving simultaneous equations subject to conditions outlined in lectures. Impact takes place at origin."
   ]
  },
  {
   "cell_type": "markdown",
   "id": "HhTPKmA6LVNB",
   "metadata": {
    "id": "HhTPKmA6LVNB"
   },
   "source": [
    "As always, we need to load in the Python libraries that we need to carry out the plotting, animation and (in this case) solve a set of simultaneous equations."
   ]
  },
  {
   "cell_type": "code",
   "execution_count": 1,
   "id": "c10d447e",
   "metadata": {
    "executionInfo": {
     "elapsed": 412,
     "status": "ok",
     "timestamp": 1646662034959,
     "user": {
      "displayName": "James Threlfall",
      "photoUrl": "https://lh3.googleusercontent.com/a-/AOh14Gh5AMmwJn-QgnyAtyVfjDwEfQL-5FfwAhQ1uZjJ=s64",
      "userId": "12893452708265254015"
     },
     "user_tz": 0
    },
    "id": "c10d447e"
   },
   "outputs": [],
   "source": [
    "%matplotlib inline\n",
    "import matplotlib.pyplot as plt\n",
    "import numpy as np\n",
    "import matplotlib.animation as animation\n",
    "import matplotlib.patches as patches\n",
    "import random\n",
    "import math"
   ]
  },
  {
   "cell_type": "markdown",
   "id": "I71We155Lhlc",
   "metadata": {
    "id": "I71We155Lhlc"
   },
   "source": [
    "With the libraries ready, we can set up some of the initial conditions for our collision. We'll have two balls, labelled A and B, and each is associated with a mass, an initial speed and at some initial angle to the line of centers created when the two spheres meet:"
   ]
  },
  {
   "cell_type": "code",
   "execution_count": 2,
   "id": "5f5bOWq3L1jL",
   "metadata": {
    "executionInfo": {
     "elapsed": 14,
     "status": "ok",
     "timestamp": 1646662035593,
     "user": {
      "displayName": "James Threlfall",
      "photoUrl": "https://lh3.googleusercontent.com/a-/AOh14Gh5AMmwJn-QgnyAtyVfjDwEfQL-5FfwAhQ1uZjJ=s64",
      "userId": "12893452708265254015"
     },
     "user_tz": 0
    },
    "id": "5f5bOWq3L1jL"
   },
   "outputs": [],
   "source": [
    "# angle of incidence\n",
    "alpha_A = 45.0\n",
    "alpha_B = 45.0-180.0\n",
    "#initial velocity (m/s)\n",
    "u_A = 2.0\n",
    "u_B = 2.0\n",
    "# masses (kg)\n",
    "m_A = 2.0\n",
    "m_B = 2.0"
   ]
  },
  {
   "cell_type": "markdown",
   "id": "E-ZFqRxbL0Ez",
   "metadata": {
    "id": "E-ZFqRxbL0Ez"
   },
   "source": [
    "We should also set up the coefficient of restitution and the step size in time of the simulation"
   ]
  },
  {
   "cell_type": "code",
   "execution_count": 3,
   "id": "Y3E6c4eCLz6o",
   "metadata": {
    "executionInfo": {
     "elapsed": 13,
     "status": "ok",
     "timestamp": 1646662035593,
     "user": {
      "displayName": "James Threlfall",
      "photoUrl": "https://lh3.googleusercontent.com/a-/AOh14Gh5AMmwJn-QgnyAtyVfjDwEfQL-5FfwAhQ1uZjJ=s64",
      "userId": "12893452708265254015"
     },
     "user_tz": 0
    },
    "id": "Y3E6c4eCLz6o"
   },
   "outputs": [],
   "source": [
    "# The coefficient of restitution for bounces (-v_up/v_down).\n",
    "e = 0.5\n",
    "# The time step for the animation (s)\n",
    "dt = 0.05"
   ]
  },
  {
   "cell_type": "markdown",
   "id": "pWQHjvM0MCft",
   "metadata": {
    "id": "pWQHjvM0MCft"
   },
   "source": [
    "We will once again be solving two equations of motion, one in the horizontal ($x$) direction and one in the vertical ($y$) direction. \n",
    "With our initial conditions, this means calculating initial components of velocity using trig functions (again noting that Python trig functions work in radians). The total velocity is therefore also the sum of each of these components squared.  "
   ]
  },
  {
   "cell_type": "code",
   "execution_count": 4,
   "id": "ffL1HzYOOdJV",
   "metadata": {
    "executionInfo": {
     "elapsed": 14,
     "status": "ok",
     "timestamp": 1646662035594,
     "user": {
      "displayName": "James Threlfall",
      "photoUrl": "https://lh3.googleusercontent.com/a-/AOh14Gh5AMmwJn-QgnyAtyVfjDwEfQL-5FfwAhQ1uZjJ=s64",
      "userId": "12893452708265254015"
     },
     "user_tz": 0
    },
    "id": "ffL1HzYOOdJV"
   },
   "outputs": [],
   "source": [
    "vx0_A = u_A * math.cos(math.radians(alpha_A))\n",
    "vy0_A = u_A * math.sin(math.radians(alpha_A))\n",
    "vx0_B = u_B * math.cos(math.radians(alpha_B))\n",
    "vy0_B = u_B * math.sin(math.radians(alpha_B))\n",
    "vA = math.sqrt(vx0_A * vx0_A + vy0_A * vy0_A) \n",
    "vB = math.sqrt(vx0_B * vx0_B + vy0_B * vy0_B) "
   ]
  },
  {
   "cell_type": "markdown",
   "id": "7Qplrd68Ok7y",
   "metadata": {
    "id": "7Qplrd68Ok7y"
   },
   "source": [
    "The initial position is trickier; the balls are travelling at different speeds and angles. \n",
    "\n",
    "Our tactic is to fix the collision to take place at $\\left(x=0,y=0\\right)$.  We know the velocity the balls travel at, and they are not accelerating; our first year CGT maths lets us work out a displacement through $s=ut+1/2at^2$, which reduces to $s=ut$ if $a=0$. \n",
    "\n",
    "So our $x$  and $y$ positions will behave like $(x,y)=(u_x t,u_y t)$ before the collision, which will take place at $t=0$. \n",
    "\n",
    "Our neat trick here is to pick a time *before* $t=0$ and see where the ball would be. I fix $t=-1$, and hence $(x,y)=(-u_x,-u_y)$ as our initial positions. \n"
   ]
  },
  {
   "cell_type": "code",
   "execution_count": 5,
   "id": "6f37a1d6",
   "metadata": {
    "executionInfo": {
     "elapsed": 14,
     "status": "ok",
     "timestamp": 1646662035594,
     "user": {
      "displayName": "James Threlfall",
      "photoUrl": "https://lh3.googleusercontent.com/a-/AOh14Gh5AMmwJn-QgnyAtyVfjDwEfQL-5FfwAhQ1uZjJ=s64",
      "userId": "12893452708265254015"
     },
     "user_tz": 0
    },
    "id": "6f37a1d6"
   },
   "outputs": [],
   "source": [
    "# Initial position and velocity vectors.\n",
    "x0_A, y0_A = -vx0_A, -vy0_A\n",
    "x0_B, y0_B = -vx0_B, -vy0_B"
   ]
  },
  {
   "cell_type": "markdown",
   "id": "7jML8eTFSD2y",
   "metadata": {
    "id": "7jML8eTFSD2y"
   },
   "source": [
    "Now that our initial positions are fixed, this will essentially also fix the size of our plotting area. We'll fix the extent of our plot to be twice as big as the largest initial displacement in x or y, in order to prevent either ball beginning off-screen."
   ]
  },
  {
   "cell_type": "code",
   "execution_count": 6,
   "id": "N_g_NLf3SFNR",
   "metadata": {
    "executionInfo": {
     "elapsed": 14,
     "status": "ok",
     "timestamp": 1646662035595,
     "user": {
      "displayName": "James Threlfall",
      "photoUrl": "https://lh3.googleusercontent.com/a-/AOh14Gh5AMmwJn-QgnyAtyVfjDwEfQL-5FfwAhQ1uZjJ=s64",
      "userId": "12893452708265254015"
     },
     "user_tz": 0
    },
    "id": "N_g_NLf3SFNR"
   },
   "outputs": [],
   "source": [
    "lval = (max(abs(x0_A), abs(x0_B), abs(y0_A), abs(y0_B)))\n",
    "extent = 2 * int(math.ceil(lval))"
   ]
  },
  {
   "cell_type": "markdown",
   "id": "7ZLXITsYSG5C",
   "metadata": {
    "id": "7ZLXITsYSG5C"
   },
   "source": [
    "We now have to deal with what happens when the balls collide.\n",
    "In MAT201 we learned that 2D sphere collisions essentially boil down to:\n",
    "\n",
    "1.   perpendicular velocities remain unchanged\n",
    "2.   conservation of momentum (parallel to LOC)\n",
    "3.   Newton's Law of Restitution (parallel to LOC).\n",
    "\n",
    "The first item fixes the $y$-components of velocity; the final two equations reduce to a set of simultaneous equations to solve for $v_x$ of each particle. \n",
    "\n",
    "When we tackle these problems by hand, we usually use substitution or row operations. Python is excellent at solving simultaneous equations (as we will see), provided we format the simultaneous equations in matrix form $Ax=B$. This then means that the solutions are given by inverting matrix $A$ and multiplying it to the coefficients in $B$; mathematically, $A^{-1}Ax=Ix=A^{-1}B$ for identity matrix $I$. We'll therefore arrange some of the coefficients in the final two equations to be in the form of a matrix:"
   ]
  },
  {
   "cell_type": "code",
   "execution_count": 7,
   "id": "Z4FvSLwRSHfn",
   "metadata": {
    "executionInfo": {
     "elapsed": 14,
     "status": "ok",
     "timestamp": 1646662035595,
     "user": {
      "displayName": "James Threlfall",
      "photoUrl": "https://lh3.googleusercontent.com/a-/AOh14Gh5AMmwJn-QgnyAtyVfjDwEfQL-5FfwAhQ1uZjJ=s64",
      "userId": "12893452708265254015"
     },
     "user_tz": 0
    },
    "id": "Z4FvSLwRSHfn"
   },
   "outputs": [],
   "source": [
    "# matrix of coeffs (to use to solve simultaneous equations)\n",
    "A = [[1, -1], [m_B, m_A]]"
   ]
  },
  {
   "cell_type": "markdown",
   "id": "5AO9txhqjB4n",
   "metadata": {
    "id": "5AO9txhqjB4n"
   },
   "source": [
    "We know that the collisions will take place at the origin. However, we're moving in time using discreet timesteps; depending on the size of dt, we might not actually hit the origin exactly, but potentially miss it by a small amount.\n",
    "\n",
    "We'lll model each ball as a circle. Another way to detect a collision (without relying on it taking place at the origin) is to check if one of the circles overlaps the other. To do this, we'll make a function to check the distance between the centres of the circles. If the distance is less than the radius of each circle added together, then the circles have overlapped."
   ]
  },
  {
   "cell_type": "code",
   "execution_count": 8,
   "id": "k5_0nyJuoQJt",
   "metadata": {
    "executionInfo": {
     "elapsed": 14,
     "status": "ok",
     "timestamp": 1646662035596,
     "user": {
      "displayName": "James Threlfall",
      "photoUrl": "https://lh3.googleusercontent.com/a-/AOh14Gh5AMmwJn-QgnyAtyVfjDwEfQL-5FfwAhQ1uZjJ=s64",
      "userId": "12893452708265254015"
     },
     "user_tz": 0
    },
    "id": "k5_0nyJuoQJt"
   },
   "outputs": [],
   "source": [
    "def overlap(x1, y1, x2, y2, r1, r2):\n",
    "# subroutine to check if circles overlap  \n",
    "    distSq = (x1 - x2) * (x1 - x2) + (y1 - y2) * (y1 - y2);\n",
    "    radSumSq = (r1 + r2) * (r1 + r2);\n",
    "    if (distSq == radSumSq):\n",
    "        return 1\n",
    "    elif (distSq > radSumSq):\n",
    "        return -1\n",
    "    else:\n",
    "        return 0"
   ]
  },
  {
   "cell_type": "markdown",
   "id": "TuJLdb3dkmXb",
   "metadata": {
    "id": "TuJLdb3dkmXb"
   },
   "source": [
    "We now need a function that returns the position of each ball over time.\n",
    "\n",
    "We need this function iterate in time (by dt), and with each iteration, we need to check if the balls have overlapped using the overlap function we just created. If an overlap is detected, then we need to calculate the remaining coefficients in the simultaneous equations, and have Pythons linear algebra package (\"linalg\") solve the simultaneous equations and return the new velocities parallel to LoC."
   ]
  },
  {
   "cell_type": "code",
   "execution_count": 9,
   "id": "39db7198",
   "metadata": {
    "executionInfo": {
     "elapsed": 14,
     "status": "ok",
     "timestamp": 1646662035596,
     "user": {
      "displayName": "James Threlfall",
      "photoUrl": "https://lh3.googleusercontent.com/a-/AOh14Gh5AMmwJn-QgnyAtyVfjDwEfQL-5FfwAhQ1uZjJ=s64",
      "userId": "12893452708265254015"
     },
     "user_tz": 0
    },
    "id": "39db7198"
   },
   "outputs": [],
   "source": [
    "def get_pos(t=0):\n",
    "    global vA, vB\n",
    "# position generation  \n",
    "    \"\"\"A generator yielding ball positions at time t.\"\"\"\n",
    "    x_A, y_A, vx_A, vy_A = x0_A, y0_A, vx0_A, vy0_A\n",
    "    x_B, y_B, vx_B, vy_B = x0_B, y0_B, vx0_B, vy0_B\n",
    "    xpos = [x_A, x_B]\n",
    "    vA = math.sqrt(vx_A * vx_A + vy_A * vy_A) \n",
    "    vB = math.sqrt(vx_B * vx_B + vy_B * vy_B)\n",
    "    ol = 0\n",
    "    while all(i <= extent for i in xpos):\n",
    "    # iterate while within bounds  \n",
    "        t += dt\n",
    "        x_A += vx_A * dt\n",
    "        y_A += vy_A * dt\n",
    "        x_B += vx_B * dt\n",
    "        y_B += vy_B * dt        \n",
    "        if (overlap(x_A,y_A,x_B,y_B,0.08,0.08) != -1) and (ol == 0) :\n",
    "             # if impact detected, solve for new vx values\n",
    "             ol = 1 # prevent repeated bounces\n",
    "             Y = [e * (vx_A - vx_B), m_A * vx_A + m_B * vx_B]\n",
    "             res = np.linalg.inv(A).dot(Y)  #solve simultaneous equations\n",
    "             vx_B, vx_A = res[0], res[1]    #new velocities\n",
    "             vA = math.sqrt(vx_A * vx_A + vy_A * vy_A) \n",
    "             vB = math.sqrt(vx_B * vx_B + vy_B * vy_B)\n",
    "        yield x_A, y_A, x_B, y_B"
   ]
  },
  {
   "cell_type": "markdown",
   "id": "YB9RXWFylkTl",
   "metadata": {
    "id": "YB9RXWFylkTl"
   },
   "source": [
    "In order to animate, we need to set up aspects of the figure and some initial parameters"
   ]
  },
  {
   "cell_type": "code",
   "execution_count": 10,
   "id": "3043d841",
   "metadata": {
    "executionInfo": {
     "elapsed": 15,
     "status": "ok",
     "timestamp": 1646662035597,
     "user": {
      "displayName": "James Threlfall",
      "photoUrl": "https://lh3.googleusercontent.com/a-/AOh14Gh5AMmwJn-QgnyAtyVfjDwEfQL-5FfwAhQ1uZjJ=s64",
      "userId": "12893452708265254015"
     },
     "user_tz": 0
    },
    "id": "3043d841"
   },
   "outputs": [],
   "source": [
    "def init():\n",
    "    \"\"\"Initialize the animation figure.\"\"\"\n",
    "    ax.set_xlim(-extent, extent)\n",
    "    ax.set_ylim(-extent, extent)\n",
    "    ax.set_xlabel('$x$ (m)')\n",
    "    ax.set_ylabel('$y$ (m)')\n",
    "    lineA.set_data([],[])\n",
    "    lineB.set_data([],[])\n",
    "    lineA.set_data(xdata_A, ydata_A)\n",
    "    lineB.set_data(xdata_B, ydata_B)\n",
    "    ballA.set_center((x0_A, y0_A))\n",
    "    ballB.set_center((x0_B, y0_B))\n",
    "    v1_text.set_text('initial')\n",
    "    v2_text.set_text('initial')\n",
    "    return lineA, ballA, lineB, ballB, v1_text, v2_text,"
   ]
  },
  {
   "cell_type": "markdown",
   "id": "4ECpb1hhlpdQ",
   "metadata": {
    "id": "4ECpb1hhlpdQ"
   },
   "source": [
    "The animation appends the position information (so that we can plot the trajectory of each ball), and also includes info on the total velocity of each ball to be printed as text on the figure in each frame."
   ]
  },
  {
   "cell_type": "code",
   "execution_count": 11,
   "id": "039f3628",
   "metadata": {
    "executionInfo": {
     "elapsed": 15,
     "status": "ok",
     "timestamp": 1646662035597,
     "user": {
      "displayName": "James Threlfall",
      "photoUrl": "https://lh3.googleusercontent.com/a-/AOh14Gh5AMmwJn-QgnyAtyVfjDwEfQL-5FfwAhQ1uZjJ=s64",
      "userId": "12893452708265254015"
     },
     "user_tz": 0
    },
    "id": "039f3628"
   },
   "outputs": [],
   "source": [
    "def animate(pos):\n",
    "    \"\"\"For each frame, advance the animation to the new position, pos.\"\"\"\n",
    "    x_A, y_A, x_B, y_B = pos\n",
    "    xdata_A.append(x_A)\n",
    "    ydata_A.append(y_A)\n",
    "    lineA.set_data(xdata_A, ydata_A)\n",
    "    xdata_B.append(x_B)\n",
    "    ydata_B.append(y_B)\n",
    "    lineB.set_data(xdata_B, ydata_B)\n",
    "    ballA.set_center((x_A, y_A))\n",
    "    ballB.set_center((x_B, y_B))\n",
    "    v1_text.set_text(f\"$v= {vA:.3f} m/s$\")\n",
    "    v2_text.set_text(f\"$v= {vB:.3f} m/s$\")\n",
    "    return lineA, ballA, lineB, ballB, v1_text, v2_text,"
   ]
  },
  {
   "cell_type": "markdown",
   "id": "ba5vq6_wl7jZ",
   "metadata": {
    "id": "ba5vq6_wl7jZ"
   },
   "source": [
    "We're nearly there! Lets set up a figure, fix the size (using the extent variable from earlier), and plot a dashed line where the LoC should be. \n",
    "\n",
    "Note that, this LoC is simply for context, and is approximate: the collision actually takes place when an overlap is detected in the code, and so there may be a small offset between the plotted LoC and the true LoC location."
   ]
  },
  {
   "cell_type": "code",
   "execution_count": 12,
   "id": "g3GTSFH2l9eT",
   "metadata": {
    "colab": {
     "base_uri": "https://localhost:8080/",
     "height": 111
    },
    "executionInfo": {
     "elapsed": 15,
     "status": "ok",
     "timestamp": 1646662035598,
     "user": {
      "displayName": "James Threlfall",
      "photoUrl": "https://lh3.googleusercontent.com/a-/AOh14Gh5AMmwJn-QgnyAtyVfjDwEfQL-5FfwAhQ1uZjJ=s64",
      "userId": "12893452708265254015"
     },
     "user_tz": 0
    },
    "id": "g3GTSFH2l9eT",
    "outputId": "e116686a-3343-402f-eba8-53439fe6f74d"
   },
   "outputs": [
    {
     "data": {
      "text/plain": [
       "<matplotlib.lines.Line2D at 0x1147921f0>"
      ]
     },
     "execution_count": 12,
     "metadata": {},
     "output_type": "execute_result"
    },
    {
     "data": {
      "image/png": "[encoded data removed]",
      "text/plain": [
       "<Figure size 432x432 with 1 Axes>"
      ]
     },
     "metadata": {
      "needs_background": "light"
     },
     "output_type": "display_data"
    }
   ],
   "source": [
    "# Set up a new figure, with equal aspect ratio.\n",
    "fig, ax = plt.subplots()\n",
    "fig.set_size_inches(6, 6)\n",
    "ax.set_xlim(left=-extent, right=extent)\n",
    "ax.set_aspect('equal')\n",
    "ax.axhline(y=0, xmin=-extent, xmax=extent, c=\"black\", linewidth=1, linestyle=\"--\", zorder=0)"
   ]
  },
  {
   "cell_type": "markdown",
   "id": "L9h7SuLhl96u",
   "metadata": {
    "id": "L9h7SuLhl96u"
   },
   "source": [
    "We also need to set up plot objects, like lines representing the trajectories and the circles representing the current location of each ball."
   ]
  },
  {
   "cell_type": "code",
   "execution_count": 13,
   "id": "Fqi8U19ymCrY",
   "metadata": {
    "executionInfo": {
     "elapsed": 4,
     "status": "ok",
     "timestamp": 1646662035924,
     "user": {
      "displayName": "James Threlfall",
      "photoUrl": "https://lh3.googleusercontent.com/a-/AOh14Gh5AMmwJn-QgnyAtyVfjDwEfQL-5FfwAhQ1uZjJ=s64",
      "userId": "12893452708265254015"
     },
     "user_tz": 0
    },
    "id": "Fqi8U19ymCrY"
   },
   "outputs": [],
   "source": [
    "# These are the objects we need to keep track of.\n",
    "lineA, = ax.plot([], [], lw=2, linestyle='dotted', color='blue')\n",
    "lineB, = ax.plot([], [], lw=2, linestyle='dotted', color='red')\n",
    "ballA = plt.Circle((x0_A, y0_A), 0.08, color='blue')\n",
    "ballB = plt.Circle((x0_B, y0_B), 0.08, color='red')\n",
    "v1_text = ax.text(-0.9 * extent, -0.9 * extent, '', color='blue')\n",
    "v2_text = ax.text(0.5 * extent, 0.9 * extent, '', color='red')\n",
    "ax.add_patch(ballA)\n",
    "ax.add_patch(ballB)\n",
    "xdata_A, ydata_A = [], []\n",
    "xdata_B, ydata_B = [], []"
   ]
  },
  {
   "cell_type": "markdown",
   "id": "NuMdZZFXmEgV",
   "metadata": {
    "id": "NuMdZZFXmEgV"
   },
   "source": [
    "Final step is to create the animation. The length of the simulation in time is the interval, and will impact the length of time the animation will take to create."
   ]
  },
  {
   "cell_type": "code",
   "execution_count": 14,
   "id": "c4a79f64",
   "metadata": {
    "colab": {
     "base_uri": "https://localhost:8080/",
     "height": 453
    },
    "executionInfo": {
     "elapsed": 9934,
     "status": "ok",
     "timestamp": 1646662045855,
     "user": {
      "displayName": "James Threlfall",
      "photoUrl": "https://lh3.googleusercontent.com/a-/AOh14Gh5AMmwJn-QgnyAtyVfjDwEfQL-5FfwAhQ1uZjJ=s64",
      "userId": "12893452708265254015"
     },
     "user_tz": 0
    },
    "id": "c4a79f64",
    "outputId": "26bb19ec-7fed-47c5-af75-c50d9f362c68"
   },
   "outputs": [
    {
     "data": {
      "text/html": [
       "<video width=\"432\" height=\"432\" controls autoplay>\n",
       "  <source type=\"video/mp4\" src=\"data:video/mp4;base64,AAAAIGZ0eXBNNFYgAAACAE00ViBpc29taXNvMmF2YzEAAAAIZnJlZQAAQuNtZGF0AAACoQYF//+d\n",
       "3EXpvebZSLeWLNgg2SPu73gyNjQgLSBjb3JlIDE1NyAtIEguMjY0L01QRUctNCBBVkMgY29kZWMg\n",
       "LSBDb3B5bGVmdCAyMDAzLTIwMTggLSBodHRwOi8vd3d3LnZpZGVvbGFuLm9yZy94MjY0Lmh0bWwg\n",
       "LSBvcHRpb25zOiBjYWJhYz0xIHJlZj0zIGRlYmxvY2s9MTowOjAgYW5hbHlzZT0weDM6MHgxMTMg\n",
       "bWU9aGV4IHN1Ym1lPTcgcHN5PTEgcHN5X3JkPTEuMDA6MC4wMCBtaXhlZF9yZWY9MSBtZV9yYW5n\n",
       "ZT0xNiBjaHJvbWFfbWU9MSB0cmVsbGlzPTEgOHg4ZGN0PTEgY3FtPTAgZGVhZHpvbmU9MjEsMTEg\n",
       "ZmFzdF9wc2tpcD0xIGNocm9tYV9xcF9vZmZzZXQ9LTIgdGhyZWFkcz0xMiBsb29rYWhlYWRfdGhy\n",
       "ZWFkcz0yIHNsaWNlZF90aHJlYWRzPTAgbnI9MCBkZWNpbWF0ZT0xIGludGVybGFjZWQ9MCBibHVy\n",
       "YXlfY29tcGF0PTAgY29uc3RyYWluZWRfaW50cmE9MCBiZnJhbWVzPTMgYl9weXJhbWlkPTIgYl9h\n",
       "ZGFwdD0xIGJfYmlhcz0wIGRpcmVjdD0xIHdlaWdodGI9MSBvcGVuX2dvcD0wIHdlaWdodHA9MiBr\n",
       "ZXlpbnQ9MjUwIGtleWludF9taW49MjAgc2NlbmVjdXQ9NDAgaW50cmFfcmVmcmVzaD0wIHJjX2xv\n",
       "b2thaGVhZD00MCByYz1jcmYgbWJ0cmVlPTEgY3JmPTIzLjAgcWNvbXA9MC42MCBxcG1pbj0wIHFw\n",
       "bWF4PTY5IHFwc3RlcD00IGlwX3JhdGlvPTEuNDAgYXE9MToxLjAwAIAAABGkZYiEADf//vbw/gU2\n",
       "O5jQlxHN6J0zH78VuLo0N73OAAADAAA33OZE/sqTBubAAALgAArD0+Bo/8wHdvHqQrPVtclEl8Re\n",
       "v5Auh1RJdUI/3VVpb0rRlA6CysIQzouuLtXRGg5rxEcvIniU/LttDlYjqLJLMIaB8YApgWWfhu3y\n",
       "VaJbGYXPvnoUd0QFOS9P2km8k9kcOu7UjjbiE/Nvs7VAklk+HPmPHgPyN77wAC0ihI3byPDjRpwb\n",
       "Ju3/2qLhfZlQWtBRwVPJCBedoYR1YTXmuohrjdMsS/D6vGj9NBePu57/w6kk3DCrjanibDvZC2Di\n",
       "iqprhjWk944wi4N40y1I6nkiSTn/2N21DODO9r5GEd20xAqOrwUgkXBtK6WNQADdZz/m0o3/O5TD\n",
       "kPVsC9MNfT2FU2O1ncTecKr8JKQzTf234n10zvNMMdjkf7t/6YQViquXVLejtshLPIdfEl59gUtA\n",
       "v0fZVl4ZJAi62ymdustZbnw/r16A2N7zEunoNnQ47T5jmsm8TDS/b+fyxWaDLfBCvWHCcCKlyIk8\n",
       "nD+kC5dz4AFEFSyUXIzgdMVbXEQEspW0y5Qp99idwCDSXk2ejQhfpzdEm7cYysW95WLqL3diMWzd\n",
       "3ncZR9RUcS7yPD8D0y5Ey1ISF/Pb1JfaY0ki71pMSd71lJm94T0XA85J5W5jycA3jin+1ZC3jOFU\n",
       "6WjXAONSo27i/eEIbO7yCavmqeR97u9eGGnbSPuQIqGjPu3uOMkq9mCUtY62ATK9H1UuurIAi6H1\n",
       "JiTj1t5HX/aLpWzIk1gtPabeqhUStzwPZs6Y/y+8VZgrpIOSkq+CWVr/BqumNQGY2UnUshggHTC3\n",
       "XCGza8KIZBohaxhI6CbaUAcniCK0/A33EgoN0JKM5sespkjyGsnGL51ahSOvcRbv9AzHVleBk6Zm\n",
       "zmC+PdEyNGkle6zmX8IWP9D5tSEw26T/PMaAdUvDH+gPASTYKTw88sdo8IkkLr4DPZdcbkP9e0tc\n",
       "CLjhVb501gEwwRGnBdutn9c3Ue2TVsu7jGbCEFGfXpxQmIO8lrxKn8oP60BWRB4DywQP4P6JBHAE\n",
       "1AABu68hsCiG8GbL5OwZOdK0gPDJMG36PYhH3VxpaBCFH1Ndu/0sIABGcLChQwmwIj25JJKbrus4\n",
       "bTXuOw0Eqcbx0WncBvG5k2KR8ofSZ8rTdfFMoNVt7sr2Y0nsxPv/NERqZBRBR99UJsDC0xDzO5Y4\n",
       "vbUjYcJ5IXyQexdKCxhvRau0YwgybdUIXaH1lHTH8pLfKDWa/xK8ZtfL2+GvfyNefMODnxDmc+pF\n",
       "zW4QKU5TTYaLiHVcVRYbP7FCad6b8XEejIjF3Obp3V8xTWxuSKb69zpMNjJzwpA3GbE4fZQ/g2cN\n",
       "lsOnK6/EmQ/8Z0akqJIHNVhT0bg3D6pGbulnVMm+4t1QJ994/OianZkR6w17ILiWNZXa7UHWxwjy\n",
       "8IJcU9l7LWNjibjxka/0LnTeEJUVfAVlZXhvr20InlnCKpAgvcSucu4pAt5198Xl/ne2U0raoJM7\n",
       "3hO3puERLD8u66QN7a4KQBOmXzLwjfgEGx/Yoh6H1+t9TwkUfNGUzz8+5vURtM66D/+oLnOBiYMt\n",
       "mLcMfZ2gQTWbl61ka1eQRKit/CrYVO0KibFAzLz8lOnSyDtnwpuJ7spZRQznxN7TK5ABlga3fSOF\n",
       "sJDGZ/dZlfIkaCOjA4Bv9aI5gISGA8N4n8o0ksaaJ8VeZdbGNZbeViOnd5abUXDd73mEkfdDR8lV\n",
       "YOa93+U0MaWq+H4QEoAdQA69BBaVPDvsjRxIEh47BRzb8At0iOnfKPNAptwTTtrS4xw5AshZYU6j\n",
       "Lzl/TBj5ch5V9VLHvcKa/imjHr9duUtPgvE1oA8R2kBaa2mWvxIOM+Mf44xPmzNugjvdZ1qgVsne\n",
       "48vtpP4A05YVMfKjd3RQ0z+YhJa3m1XPT0sEpeaQZnF9KdgzFyN02BkhfDe+DDZgvd1mvFl2skku\n",
       "GoO41VvlLK5jliyKtmSETZTF+gtnLhYOiyzQnPqHlrYaImimyInGp4TDfu+9UMzsRZRpypC3n2Gr\n",
       "ES1EuaXSKjToIw3R5DE/r70PyD7gRNA5zw3Fp15hT0uAdYuycDhYcc4Cdv1zxZs3Bus0VqsDn1+g\n",
       "mqqJ0EIDzy8nsfly64SBiKp+ggHOz/XdmJDUX6Uh7OiD77ZCFvykr5bPavnCWkUKGRwtRu4KZ1LJ\n",
       "ilNVPOQgERnJ4yJL5wwDn0eL/vaQ0nITzGPIOOMZ7SM1vBJkIoFnphBh/5pOygCYfVWuNeJy0y5d\n",
       "jR37vVz9mnCBXgNljOQ4L9Ga/QtYzYF4oWyV1HuBdgkMfJyED3IjrQ/fel0HyiV1cEX574FYPxVu\n",
       "wTK8w2QpilRZvZUaKk4Zl/mQL0OzPchGTjEyDsbquXpr4dBhjfYpzcbsVwu/ts242TgW3FRmRmw3\n",
       "0wEkm4RyEWeoUbJYk1fxvKpJVZ0CbXUYMndYthGajSY3ssLplowlZDNNDZ0ry3PJ61JsYZjdlO2x\n",
       "xFlDguaVTZ1Kgs7b9EjR2UCUQoTPPSpKVdATDN2c0V1Rwi2wSd6I0fhaN9jtRsYsZGsIBHVxy2BT\n",
       "QgNN5UhlZs7VVfKFYWBFf5XfBfVtV5OfsqSfJdo6Vun2vtmDq2Dr/NVDEaHIPeRejQjbITeDKY8x\n",
       "TQurO2N4VPJfpE2sroqhueTVp0H6qxVAv+4s/ZwFBpDF9GZZZ6c6oX8SoZFnOd3+rpTQO2Vp12rn\n",
       "xjzgj6I7dD/AOdFZiw/MAYy9qSe2b6qu3fR6Jo0oOVg9V0yiPOkvIy9Rg0GqMh1+nteN8i8ObL87\n",
       "xea9pk6kov6RU1b+eA0rO7f81aLtu8g0wzp/SBJcArGTWCRVewfuYnbngmhbd+0mh5n6XkrW/y/6\n",
       "MEPfKRMlIm6V6h/8tdyBhSdONXf0Zsi/efzBjtPvgbqSqTkDx0F8K6ZHjSWfSy5q8MsUUrM4Y6GF\n",
       "f0zgcEf1Vxtw3ho36sVudTwSvUmcQQqQreo37pTenMXWnRfVNwU4yYes+CwGOzuVL9fEM0fZVj1l\n",
       "fO7JNSxFwuhl+4fyVa56Z0lSrBYOwrhHmkIUEFmeics+M+sgB2tAxWMOaON7Y77SU3+Hco9Tc5SM\n",
       "DfF4/+OiFxE0JsEGihGerZhCjxUcvpd64AHTwJkXtN/Xf/fOKbQ4B6376Ej9X3gSGSyQ7AXbgsDs\n",
       "K254pbYqBzn/Wtp8ijP/QzZm4+jGBtN4gdjQLwDwb12vz2JKSTW2RDoiCvIl2Tjl2cTgoR70gkcC\n",
       "e6xOKPNyGV6f8Ijq6mXndhDIJW6frH4cn8tRzgykj+QLbyKvtZOHp7UhjHEMIuihjvJWZKCzeVD6\n",
       "Z3cbuz8dtTlztOj6dKQTQFF6haCX5Qsf2DnJc4mHx/D3HPnAABw5dltror5/YcgPpIeqsAFidqkA\n",
       "en3La0Sn406cO7YKyHhZZ7UWAE3i8MxyCczo0YV5vm6f9oAHFfgx0Gxn9uDA8Z424iy3dib27sxQ\n",
       "lwNfzcEMwqTEYXYtlGVyFcV3bxRMBki4DbIgDy6O35htuymzNEeMlxYin7a07QpT5nYBeWD02yxy\n",
       "pPIt83T1hkUC4h4JaozRtKbuEhL4TfelKIrt6C4uKZEJV1OMnZGJWEd2F/YOTS5Dfv9b4P9ADmZP\n",
       "X4VB/hP5Mfjl4HJWFrhvV8sxfMCkrETPGu6L5+AJku+BNMxaEEohkei4GmMJ7M5NpALWkIrRoJ1C\n",
       "W8zM92aFkLFl++yZnSsEv6HJkZq3SdIyKu9TpX46xnLfBZv2//cagbhY5gQQaaoKMPlk8eHtZXHT\n",
       "mo78yDJ7A9c91G3rBr8ik7mlCr7lt5u5MDWEYqyf3bCG/e33uPSJjqnujjuA7ow+Gdg0RQLV7EXV\n",
       "rVDTi9/qdBWXfeTuGPv70Nt1+w6LTHb8eJH7t6goVwb+NFckEwiEgE5CRjuf89auDTor/i6/7KvY\n",
       "CaditRQS1WjEdqaIMp8rvZ4Nck0L7vzlLPnxQfj5ECBWeoICru9pJ7cXb8oQ2FvO9qRI22KE/Z4E\n",
       "5EkCztTBwlJzqsVSYzN+ciRgnbeIcACDoER2SJIdDX58jwzbuwieVHzWo2NYp933Y+PDjNU7Rbcw\n",
       "UK+Qa43b5P83CGR7sO7/c1kAhfdpmCsDnvPZMgmeOlbi/uxxejDRQ/77/WH2kIkhow1WKs7hEZN4\n",
       "l5glJWqq8yeEkQGlARqxEmC2/h/GoGMrzgtzu6S6WfMZyyZWn+FbKiIZlDlrwwk/0FpVS7oX/uPB\n",
       "XcrfFtKKfaJW2qLHs1IESI3WGAUV+w3YzJbW35uFgFeJ68HgtCsTUE1E9HbApbK32S15JlCZFOwT\n",
       "08RgP2AZaqXhAyIF5pNOEW1LzqEjUEZOLTnM9gcBGtMYxi4TgIA3VT+AKhiPbGmMo5rFiJsBHAhG\n",
       "QQsfiN2y4meFC2KzdTa5EJIiwkv2HlnjFSEU1w8PtdHwusj6FHFMA7T2ZN5FDq3D4bJiv/ao40Pq\n",
       "G6zfjBX1tKfaR01QgtpYX0/e0/qRS8OUqGhf+u9/kysQmucwIo8W6JOHk7c5Pl11rTT765BiSJS/\n",
       "bt3K6PA67Zrhw7Hrf/GGGbD6aD8z4Umhp9aTxedOnCmsjduj3CgsFHetn8Q2ooctFgjSA9JQbRaP\n",
       "AZk8PEbf6ZsJEBgU5DWCFWJoHQEPYUyCnSDHQZPbDvOC0E6yWUcC8whLKcqtgoJGqC6Vaytop5QK\n",
       "1flJQoVTd19xkg79t/khkW+ws8W8O+poJQFivIjtXdEctDt9aTxeYR1N6veH/9sw64/VAKzKEma2\n",
       "7l3CgsFHetoF92hHKh7GhwnFjC5zfx8f0IfVRhnszHGS8oB9YIHS6ZBslb/x/llpopj96V37AM5I\n",
       "PR5953/XrjiiXE7TeKU/WZRCTYDBk2MIi0zEj3MCN9MA7lUMS+9689rdFIUO1esoPTomp+gZ34/P\n",
       "ewa8uQDCHC6hCYe4L7o6nqTph2RH0ZKwm/fopsvC+AJrPW7CbS7djPb3Kg8OQNAf9c1t74Lt8VRi\n",
       "TBId3/6Z5jyA1cQPQ898/YqNpNq8jrhe9lOaJt1q6kbgmI5mAzU8SyA0WV7did/YI5IG7t7OhoCe\n",
       "qadjudDFwOs5kbiIYeaQJQuAaUoOmrVMhjjVgj9LIX0jpBOIFZtyURsXrrmhe0xFvUiIpN4qNpXL\n",
       "7+T/S4spm2r9etQLi3X58MBn9LVucaqoXS5vgD7Lp++aTQABJ5uMnBmFSXTIYJVTfbFePdXmT+ob\n",
       "OxYWEwDEu69/XtyIEdVVStnSO322q7LF+20esODYtFyQo8gloUcb9Ix6yI3E22wMKsh7soffbM+9\n",
       "bW20Iprm/VXUAG9x+/RkDFeIdd+y4neiGVWqouOEi5P/Qbct0L3iC1goRiNfsxi343/c6GzFr0Ri\n",
       "HO8/YwEzCwULzgACAkmYbspqRcCS5WrEX+qBKR2H972gu3ByGDKgiyrnJd/x8/NNfHI3w1egmcw9\n",
       "yaA7BDojJ16PBe9v360IbrksvFCWbqyLCT6i4uhiukD/lJCRGPfqK8cL4CXKv3QW7f3MLsBbKQ5K\n",
       "kJoXp1JnQkxhPujiV3j37EMQvPBkArP5vdB3iut3BpecLkQHdhLV9LzDWgFd9hLQLQxMVi2HJixi\n",
       "oWQXtNYqqWUv5aOSUdqjJ78/cEkumfeNNsw7Sh4I3UAud+zhK/C8FB1NEaXgAoqbNxbylE+PlBPr\n",
       "QAPKGg1Hwut3LEfml22JQrpRT6ztV7KrCguNX2rcVWc/yqk2cEAMAsLm86Gsq6EBFRPGHMXZIdHV\n",
       "I4dWIohEJPCeTwBXpgx9CxhFKmMrD+sQhgixPrB6mAapyrqpNbYwE019ZLjrrH6osh+9d0Mnc8bh\n",
       "AG54gYXD5/lUjHu0bii96G7wNv3kO29hBATHrXgIAL3dHhdOTnvk4ZlQjhdc4R1UAfAsVNl9Cck4\n",
       "DpARYmDIMVL585TuZ4vOCdo4u3SaHZajx0MZQiYOp0rGJ8zFirYyZ8RmA5uoYJT+TzMW4AAABDQO\n",
       "qQAAASBBmiJsQ3/+p4QAQ1N8QHuObZdZEVmv6hfpmoqT2/2sy2d8gGX5vzvsu39Ko7O2LRGKo5Jh\n",
       "wxsZ1gE5EcOPYD/2kDkcdtRxDNUOpjNQisVD70hC2cl517T+GHPFMKDUaQIbTluc0g3ZVmpuP/Ll\n",
       "ZFWItfU1qnTgwmE/HbOh7lKqE74r3N2KePjBRKrR9wMNWhQUG5l+0+nzI8POlieyqroBX4PdpEoW\n",
       "VSNBkEat0xDV49wUvVyahsgRgDK8H80O138g8T6msxVb7CFWLHYFaO2rQEc7yi+a6tHxnNdpSNQO\n",
       "OwGEMNGOXEd/w5ThNTIv2pFKk4Ajwow8zHRPqQJZ9FfBMh8xzSEDyBnNFfoBciBWns8o4BYIBXpe\n",
       "jGva2VW3f8AAAAA/AZ5BeQr/ABa2n1wfpC1eq9gbHAAz/pBc4XJ1Pxliw6m7iPb+eXxAQu1iEBvj\n",
       "vSlfjNtfUrrNLqddYCdkoDmhAAAAyUGaQzwhkymEN//+p4QAAn/Muv/YwIF2Td4oNsoMy/PXJIEh\n",
       "NCbgakMnvUOAKQppraOJQMMDKoyMxsLsPXhhlbxSF6HLzNQEUldY9n6Z1pevVwnExnePKc1xQD8E\n",
       "FIZHs3w2D4Gl/wGkeyYsV0L8N1mbLU/QDS2Mqdrca3eM/ovvsWs5FfyFnExFE3FTklqcWDfRoSNF\n",
       "AQr0LmccCj/VYl3xwpwACOp4Z09jNQrfK3E+Y0dzlHP7kDmrRvjID4YRQdJSM02K25Yd0AAAALVB\n",
       "mmRJ4Q8mUwIb//6nhAABPcKOyvJABEEBGG0LnN91dPvKKMZBW2awQOm3rs8UJcNub2cDGAYYGGjH\n",
       "IPif21B4oDwiBA/dte8WmVJ6WpFphPbntS/SPwkQQDlM0sRhEsCdkCV492KsoDP4JNipIYkijvAM\n",
       "3ccq/UFZ9pKwTEoJuW9ddICsz/j7rfGJnCeaxIcXq/xcFnlDmKX2zPM/jhNjGdqw9qmqEI4mQ2FI\n",
       "HQeLJ6X0kmhBAAAAx0GahknhDyZTBRE8N//+p4QAAn/Mu1HUolmAVRCM5XDyyeGXXhZUUEccFw0y\n",
       "+VFMj8bceTDmA/r3SGx9EGd5/zdKantvmSv3v7Y+7ysI9ypXEWLfsfA94f5HpGYs0FVOmYu+jYNe\n",
       "QN4C6tdfGcSEu1+J1Pqux3ZufhWpjaNegEdJ1RtsRzsvZSzwU4DkKfvPqFN3kmZl/59am3ty6sMF\n",
       "CDJ2XXVVZvtO/jggMjq8d/F+ViJr+HhTCyvHb4sEHfNPxxD8LG/gFTEAAABFAZ6lakK/AAH8A5jV\n",
       "GA6mVq1ycgBNM4pO8pyUN+lr5FypsytxN5YGUM647LhnP1C4PV6HqkiTR+SgQ7qTNSBybe1de4x/\n",
       "AAAAtEGap0nhDyZTAhv//qeEAAFIVwviuGnBH2vLBcBTZ4WatMvdWxYPU6l3Ka/MuMlKLqgqfmss\n",
       "ZXIBk4/yNhWbqfF7diB6nbTywPZZoiu7dE9LGgPCMvMhUsfaeBUpbDoipAWGVaz8jYnbZGcyy0CV\n",
       "OkTvkKGzX//yKrhe/8AdlNL2aFh2z4jHUPjVpjthdDAAbakoesk450Ef9CBTSTWwTkvq9tlv3n7L\n",
       "zS/34jS+ot8/55MxEwAAAHpBmshJ4Q8mUwIb//6nhAABSOZdqFzZ771iIAE5Ib99IohDCj6LjQ4S\n",
       "jS7zoVv003R58t84rJp+oM7z8Ps9Jf0uctLL88urVZHe0TNN+9W4J1reeYvx3GZDQt7oK+Dh3YFE\n",
       "MU9dOtFfBTdP2rOWLZCQO16luyFdeQ0ikgAAALZBmulJ4Q8mUwIb//6nhAAAo2FHZXkgAnJD+KwZ\n",
       "grW1D7Qj8To5g9BX0xqCnOsLI0vNrUa3grw/ZLgBHhqiTtitaalo2M8h5XgvMI+I/eg6W10EABE6\n",
       "PoxZvp1Arf7MnLdgE8FA+SvR5RZuPmPFC7veGjS5kd3f2VO0FOWa74Jfu0iHVy7b1jXscBjy1N/M\n",
       "RyUG6sNRh9mECHACujbgd2zyv2aq2Lbet53jq/VKapotk5ioj/SRcAAAALRBmwpJ4Q8mUwIb//6n\n",
       "hAAAo6i9JRlTNrgBKnrNReph8QzfsV294OipbDdg/744BsxlP+Ee/+0MQ4yp7Ux/p8SAC7eciN6L\n",
       "mBofpYgLGEH5V2fUKMK89k1167gl9SHhksN4X+km7Vslm1iWyqO+SsybEdpw77yo3akwL6K5X80j\n",
       "Yq9884Z6XO4S0bIOxOC6eqjHyaFmHfzVbrt6Xe8AHBXydei27SfCduivb4Dwl25RSVcEQ8EAAACf\n",
       "QZsrSeEPJlMCG//+p4QAAUjmXagtUFtHZLBz6joALAxg/CHqkAMLIWsS9rIjwoENoieBuYRDmfnT\n",
       "u5nvAwapq2ZgMlSQM+k5e4qRaZM4xw+716aBAKxGgTDV9DLHzvF73Y372oGHbUeyba8AIhLDVxgx\n",
       "myhHboYXfIG8ovXVr+wKTpW+GYkP2jzmRU+//HE9X859Kks4fSNOcI1KcDQgAAAAvkGbTEnhDyZT\n",
       "Ahv//qeEAACn5nxICFXJdxlFgo1g6dFB5KyG3yqJZsPbu/Og/mC9BW1/vpO+vrvwHGymoyU+k8nR\n",
       "zAjXTXdfRq89/esikssQc/XowpKgThtrwWWSmjH2zKehctX34z62wCPVmhKc7w2EdwqNwhMoJUX4\n",
       "tlXxUFWW+KjglhYAcanNMjE59925zTmEEx59BmoirM81/Nc9CYhfB0WfK+tmlSegeX7xWmsWGfiY\n",
       "dZQcy2vicegJAxoAAACGQZttSeEPJlMCHf/+qZYAAFU/ukbSghPdaej2itDIOq92/7/EZV3bCFRz\n",
       "Iur3FO32vgaA/T0C28y9m3uXKN86Q5KgF8CK0/nqfG+goiJ6o/4BbFB7k3qV4/w64urnOjTdwH1u\n",
       "ZRLUlr9sUoyA9NxWEJY3/VHXQ4Xxq4Z7tbbFD47jLM9cB80AAAC1QZuPSeEPJlMFETw7//6plgAA\n",
       "VTnnkY1UdH/9pc4U8AANFTiJ7Qnfd3D7E6JA5zLDtiRZ/gLem4SUv9a5mhefdVBOhPYPZh+v2rYN\n",
       "2Fgpj/mlJKiGEfJ/3ZLcFOrBRQZqf7Vv7ScH8FX4QCWOEQZCHLG80sZGe1dhIjuED1H94VODHao1\n",
       "uZKROJX01VoQE/wnpFiNt177K8bWZdkBJn8XGciO5+YPgivWxIIFPOcfc5TVXSBxwQAAAEMBn65q\n",
       "Qr8AAIbI5Xd6n9RAAfxDTHEWgpLNZXFS6i6IYxeiu/6s5Cc9EV8kMR6xk7WN0kHJhRBCgrRmCIOh\n",
       "np6sNh4VAAAAqEGbsUnhDyZTBTw7//6plgAAK3yFoDG+GlbcfuR44KDqridztKeHVjstUEqpLKhi\n",
       "Y8vpSWWEYeKulzeRovtZvhyjuM8ZlCKnaBfiAZ8At3KoPKCAF1XDRt679Rv/oS2sAFui6k2u3N+g\n",
       "0sKaIYFgtBjPoZJpB0jtWtqDr0buhTEgWb7wxHpz7se4a2yUIdEUOCYccCeniAYUfxheh4Q9VW/T\n",
       "q63xHEGCTgAAAF4Bn9BqQr8AAEV1pij1QeIizRABKWx+NUoLOfWtKvpmPXWCpU24nomAU4f1EvoF\n",
       "aI4GUmn+qnA8x5D1umh//xlqiAfRwHcs4oj6oGmne8L3RP0RcW2h1Dq87b4p+vU8AAACskGb00nh\n",
       "DyZTBTw7//6plgBIB9PQBuEMSufuB6oOqfjo9qtT5t+dedQFcM73fm6NECGCO9R4GeWtwbVgw9cs\n",
       "ZqJrXb9UESLD6W7hgq2U90Y9S97Y8ZQOwQXBU6Te8W49OfFCqrXRUjbBzylZuqzhf8sBlrqBuW2M\n",
       "S+pCxsIHZa/Q2OVahC6RN1v6FBzj3J4s4sLtVuICHl8B1hwYRrauap6t71YmgO/wLcjibrFRhmbP\n",
       "LB/lXuVMzWaBZmEJIDPInRSLM5t4notp/R5l/DX+m/0TVE7Y0H+vipL7PeublUl/9D/QFgcV+70U\n",
       "7BI+xFs0SeU2QgpKwOveoIkDgk4OSN73I9nOB1YiMjTAivnKdWPbRBky5To2tU1UtDRMg1o1FZeT\n",
       "L7Rchh0ov6KCT71k6nFYaYoiV9YGNPCVxgBK6cU505qmoRtilfg74nC2r5Dn0jBeKm7FYJWblW87\n",
       "/l6K/iogk4spSu2qILw+KD8Ib5zJBbRvObAhRh4vqt3MCKW8FqRb0TBxEozlYcfwfu6P/08EC1dp\n",
       "d1++rVfEHOui2tlnYgX5eG2mYcFfYQxX4Q3dRoDH2H3dOtOW7Z79buE7rXJPE0ChnmkpzniWswNX\n",
       "9ZQQebqumH4zm9Jqyb45Tc2K2FePBwKYlcKXz/dyeS0eMra6eRw9DOQvwsJI64zLWWNHesZlmq6d\n",
       "B/ypc6gc+ZOuReEucUAG1/CvR6jah4pyJoI/exirKor1c+fI6XczxTHfhUkVEZgzGjtGrM6yGNiv\n",
       "v1tM7ZE6Am9Id4v1a+En+iVgCqFQ0rSb+IKtmFcPI4xaTBsdVXeCrbbpuKGqG/az9IXf3zE2QRm9\n",
       "zymF9y4LHxpk0z+ugiL9AdGFzQjWE0VTT0IUFe3iF3PBPxtImeM9mEaWeUKjoPZjXelLzf94d0V1\n",
       "fQAAAHUBn/JqQr8AdBklXi5ZAlpcEFKWqXKRPc1lqVCAFoGAQAg9j8QW5K24MelU+MzaEKpqdEVa\n",
       "94vlI4Zre+eBXblwkRWqPTEaZYITzZX4HdDAdkbjviSbNYQCLkSRiI4pu3N269LejKTIr4ZXYPir\n",
       "jsdDW8bQlIAAAAEYQZv1SeEPJlMFPDv//qmWAAArvC3wgPiVACWroBe/kNvfbRdNkk2yFHUdxZb6\n",
       "CLNgiCSXkGUQHjQWWI76iL1/a6rUhr6qDXKalyKALb0GbDkH56m2S/j//x5bZl5IqxTkQ0xiE5w1\n",
       "ZufUgc1ZqQGpkL8pCWXxfyMNA2kkzLs4+dwZirPbM/AphQpYYoDfWj1PdqoS6hfZrkap48ps0wEA\n",
       "eDVB1UJtFWq2mggu54ujGpipULYMLlwfyz4G2H28NUWyLgvR9ZREXf/973eUr2osyaDWPukVW6gK\n",
       "FAee97J5lLt61TBuu4yLNC/hworlet/4yPgJnSj6Cgju5G84eDmDzj+Tf6Svd4MthleJkXUVonfd\n",
       "sc08T/kjeAAAAF4BnhRqQr8AAEWEuefa8vSVxedfcgQAgEIK7VNJKu++z+GYjHN5cwk5s1JmgGmX\n",
       "lMq41QM4Lc/vf0Zn8+Rff6NCHIqwHTH9jXTL+1vbfmQmPediTi2NE2ARhCX3tbnhAAABFkGaF0nh\n",
       "DyZTBTw7//6plgAAK5M0J5RuLqJwAhTMbCpGikZAl++TDHJK1kQ1ACodippPK4OtYDd0bxl6XDIk\n",
       "zIJhe9N3dzJX1vwPJh7ElA4CkOyUdcaC41LKjQX0I5ioawjoC2NnTfibMJCvo6wDM9BgAn9EmTGc\n",
       "qtZoQNpKIzoO+YvCB87Djvop0vg2xf8jk2tqORrtpNl/sZCOiz3wBn0ffDu+cmmuaPadWF/5oSVq\n",
       "XALe8kvcr7n99lm786Ajo9bF1uyfsa0YbN/LpHGRkHDm1dNzAjdRwJFTNlvWZx0vbiWvTBR+MHBH\n",
       "nthkiKi77XrUoLr2bbdgxC7DUaGQfnDyH3QpMbO+Rql86rLd4DYm3bo588EvAAAATAGeNmpCvwAA\n",
       "R3XP26IrPHiQAQ3pikuS71g4YfAhcYl1U5P+rZ2Ha97bMjaVOtE9ak37Vodr3FWYqJXSBNR/B8xP\n",
       "U+zEi8E/pIpMIbEAAACzQZo5SeEPJlMFPDv//qmWAABXAkHAv6vi4xy/f+eePhOY4h8Hjn5ZUc6y\n",
       "CTTa73+8RTzl4YSt0B1dSc21LuRxX8H7wHtMF81gStRZpbHz1ElzipFuixMsnsU703bwiY/ksoMw\n",
       "nB92/NO1GtYNWyRCjiNHQxwG6zVdowPEqwqv4D+6AKjDjzraFKb0cfD9l7ELw435KYJb4x/Es+gv\n",
       "11AuhuKhrMTyedTGBub2twk+xYlIDBkAAABBAZ5YakK/AABHZBC91ux+HlYAQp3WK8ALf6PSt53q\n",
       "ObiszzOLODIOGLwXEUTbGjdUdXVRE+i9hUOZINjTbFICToAAAADAQZpbSeEPJlMFPDv//qmWAABZ\n",
       "NA4YpugA46cSC8ybAvDHHO7rxQ5ac+0tJs6MUcMXO4guuqS+rpLo3qiliWDi6mLCrfSbNI6+fsad\n",
       "/3/zWFN+RrCIxGIxmfleIiDKyUpqa0URbp/qlxbNbZj72t/UNEUt6Vx1FkiO3wfOQdOaO3bUuFdl\n",
       "9akaFjzhIeina9AuQm5mPSCMmEg6NW/Lvic2y4/qP6AWRwEnXAdUkmeTHZlTN9UaqHAAUBBbf7DW\n",
       "fCthAAAASwGeempCvwAAjuu24R9+RADYjDSoNQ0EkXOhYYkEEOsVGhJK2Y4vTyvK9rfOXmGipnCo\n",
       "3VW7xGPfgR68P4EFEQ4IJLUzPsP8+vVVgAAAAOxBmn1J4Q8mUwU8O//+qZYAAFlYb4YzCQAfyg/n\n",
       "jm18lpAv9iUPlsCsXY/bjshR5K3gMbKDLcdJo0xJwuaJqhZMAQkhXd09AdRTyDgaG4RawadD2LrZ\n",
       "E+KjfAMm0PWrsmqwjebO/z+vdyMGCxug0zdKeJ9F3HoASaO6SWV7FjvwXoFRFKqvSlALkA+FtLIa\n",
       "jhmq/axYyULHCgjfQ0PmrTpS8RjiOZzVZhFDh2mfoAri3+llIXk4P49tSeMrsR66Roe3krPfE0vm\n",
       "xR2IVdkDyImNbVFLkYaWvMVU43/AlrZTPz6YfD4hZ5DLfbgU0QAAAEoBnpxqQr8AAI8EcaInnWrR\n",
       "fDMb7DABas5wpzS//7/FyyDyTtugbV4KjmTja8pcUlh2OtOvqtdPHQJR3tcvmRM9jsUTOxscUdq6\n",
       "fwAAALhBmp9J4Q8mUwU8O//+qZYAALJvoRgDPY7aPaXO0Vc0Z84Q7zLAlaNoi8rK4rsirSO9vCiY\n",
       "hKGesOYDeOX2UAArt+ykjDsgKYCsBcurLJ+PANF9TWx0iwNflx1hgDvGuxNUgwL7JDd2OB9NYIJ0\n",
       "Fnb/okokAlw3vMe0T3tl6Pp6fzO+8zRnAxrWb7JH+yn4oazTUf+JIwvpqkuHhscIdqwsHrH5AVm6\n",
       "FR86e+gij/mBQD0R75I1LI7oAAAAUQGevmpCvwAAjwRxoinvAAQ0zgzXt1np0gLWjwNl6aeKdcv1\n",
       "rk6Sx+uzurhS9ukLjlJ+ffM+eeEshHgEzJz4BU4LroUWPJatHoBq3ZgExaTRbAAAAL9BmqFJ4Q8m\n",
       "UwU8O//+qZYAALJoHDFluADaYLPrRNz+6RwZnAJkXFHD55/khK3ZiyKm6MXquHC4P08XL9PUOnyI\n",
       "BCG4tyiz0TCWTYoBsSPOv6oq8sa0D+9VFWqE1Dk7uY7nFJUagAaJVdrqPD9jba6iJl2n8bnefhaA\n",
       "emDVmPSyUYKWoxMtX4CKZ1jfDHfRkCEvL70uRzeGiY2x+lcAN4vfV5TFCySg+QlXsL+lY6WDj43Y\n",
       "NlJ9DdX384prDcTYwQAAADwBnsBqQr8AAR3OhHQxE7wKS91o/ABrCmQO9J1RXY/FnoOd9vviwL4R\n",
       "dxiEFBoHYMs/+Z60xPhn8dh4o9gAAAECQZrDSeEPJlMFPDv//qmWAACyp2zRfT6MXgA2kuutwumc\n",
       "6Ogxr7uIkk+HQgDgMlCMppWh1M0sJMEumlck3ldFuiI64DXlJFckgalljjFQ+AB1d4WAAF6sRiQR\n",
       "CdcMWUkbZQAh4kjMa0U1s4BgYktFqqwB1RJMxBQAA+ubXtx08hf+v0+mMC52D5RoNCydLZABBqmq\n",
       "qeb1kyAuleaoeH/5Nk4Vb+MRjLut2rqex8FyZrt9rVRWG6Rc5iKwzTYwDZGwRb3n1+9nAqREAbh6\n",
       "dP6mRcyGJFxJOIgtTXRG+JNAcpzh5dpYGE1tOxioLdpiy3O7vkSKNc2hBecHHyODDvdi+gY1AAAA\n",
       "OgGe4mpCvwABJdbxdHSBwgBB7cQnLS9hvcL5vZzUpyD5yVTyx71sJT+JyG6kn//DhMxzxW3vwvZS\n",
       "PPAAAACYQZrmSeEPJlMCHf/+qZYAAW3RbMJmOgBHyC9Xczf8IgdvEKLkc3aw/e1zka53m7YaBSjy\n",
       "Tcp1cl1DYmij+0ewcC3RAtTpvhyeKvFGcDf9607v5NDBKpRy8wb5TJjIAZY5QIuV8ELEvgsafLVx\n",
       "VcIwCArGq8ma3eizkXV6ivlnMW3UusNflICMS5z+3yMzt0MQFzVbAyrs2oEAAAAxQZ8ERRE8L/8A\n",
       "AbBTIewXwZ1L+VwUADSUq8tSe8iMXKi9CvwsJUbxwOR/hlybaYJq3QAAAEMBnyVqQr8AAkuugD13\n",
       "fOJwAa8lD4A+Vws6zjPyXD8uxQPJoFxPYMnXipiIbfw29/gfmEYeEuDtQu89fQR9iuy95/JxAAAA\n",
       "0EGbKEmoQWiZTBTw7/6plgABbgQd3vvawAt1iS18YtLgV+2VNuq4PZJriXxN7snIemiTZaYhAL3t\n",
       "y+iV7vvdHHkOaIBocsvq3hVh3hJaDD7XJ7QcmGU1XC17jh9C8Qzw7nOcfXUOD84i65OSK+Pbi2V0\n",
       "YXEb9VPFACNKZ4e5x0mNC5Xne7hdvYbAGpjgk26v8AHHRlCUi0wfBUHJhQiO4p8oHwY6iGBjfkCf\n",
       "dRWD1EhnpeTtxTZ+/+vgOZqIB6XdjKP4POlDhe2eIYTwz5wUXzEAAABHAZ9HakK/AAJK+rmabABN\n",
       "RvZvT2aHKS35SuUuxU3mUgeC///9YSwi1Y+ty3B5cEH7gsvz/HMfgA3mcg0K6bil8nvK17+3joAA\n",
       "AADDQZtKSeEKUmUwUsO//qmWAALbvoTjk49D3W0FuOimKlDMoCpAApAdFIPW3BYJZ4IjYiPfkxmb\n",
       "lAzoETbNBXxg2hL04zmlarVe7GA9y+EbhOImlyVk+Reht+axaCXdRexfifQW+ZgpGRF4yoDou6bZ\n",
       "v4t3JeaygpP7xP/MlVTCqzkJvS9zCe9jhwSMIMfY2aexTTmEfqcNt4uk30s5Kjwp+rXSKemizaP4\n",
       "vWYnl20r1D3aSkr2lOm1uuBXzjw9dDAP2OWAAAAAVQGfaWpCvwACTBHGiKe8ABDVcrJlTxiNpPZv\n",
       "YqEoL9haLm41qPkKmMMHUcUgDCs5QptMzeTPnAAsu+0tT+nmdrNKGgDjuCdJa73L3oyuK7tSOHJ5\n",
       "3PEAAADPQZtsSeEOiZTBRMO//qmWAALcnbNF+sg8nACFKOEdnvNbSoNliVj19JiYTgGmq4GN19so\n",
       "N1KgDr2IJLs0h0Tt/AzCHgi+NooH7aAeyR5bo2zss5Vga19Hmy0fZPpCj4LQZ0Yei//MmDfF3NBN\n",
       "YtgjQVo9MnO79yVnkQnK942aNsfBl5iX5J5y+XVvU2v8OnYMfugAHxcNTWJsksopMUp2ysnYKLr3\n",
       "Gf+Xnkvss3C2FqSPT0+E5CY8fpJEJnzUR8aBI/DRCs9Nr5yMceWd7WmAAAAAPgGfi2pCvwAEhzjj\n",
       "uX+qwAFcnOUCbnz9y7UV1iuRQeEyJijxinhIBHcvVkb+tS/1WlmQMlM9rvhLWAWFFsqwAAAA5kGb\n",
       "jknhDyZTBTw7//6plgAC26Bwx9OYAObmrNsRcM0vNFcY/ReE0LsIZnS523wq4ve6lfZEfE5N8487\n",
       "uyL3T1inNsm4HZ36VsSmlW4FUsDcM721f//7VAZzr0n+qRXb2fSmIJs0vzf8EeFncFIjcQ+sGmv+\n",
       "MwlTUOxyfhUOkqGrdUIQbnEr2JmXdgo7uGKW5IcfgvvPH8H8fI89PkPQEo4TpJkENL+mbqD51YB3\n",
       "7OfRuppfPj+LgXbHyPc8Y/yfEoL4pmDZYcMhrRSj841Jd56JVW7q49nMfpxCnb41NZTPjleiqDAh\n",
       "AAAAOAGfrWpCvwAEt1x82HmSm/wAQrkrl0RSOM6KEZTmSddKk54uAjouULqqjaGiL6kEpENPfgNc\n",
       "mrvlAAAAsEGbsEnhDyZTBTw7//6plgAFuFSLWUIjKgHrRP9UVeWC45DwHqv6XeXGXaOMwVzVYbfl\n",
       "Ze0S5rmzqWzR9TsZYfKiwCzAQXpQ2T9qx6AIPT3nWr5oer2Viv2eIol7KjW6aUmNh3HawDJfZfM6\n",
       "08NSwX+BNl2yh3+Hl3auy+G9AUvQurmfhYt5C39Wxc0iaaZt0b3O8J5wpjPKOc0v7DV5TI2Gi2u/\n",
       "zPLmcY7Mta78UQMvAAAASAGfz2pCvwAJLsBqKTAzrfvdAr+VmYgBAn89KO2usYEUW+2DL6RGo5Pk\n",
       "/R57LusDtFixAbap/kN6Pxj4GW9viloHncwAZkCPgAAAAOBBm9NJ4Q8mUwIb//6nhAALoHY0c7Kz\n",
       "cAN2HVMxQkFTaSuviCWOHckcl0bKfjjjJRfwKK+phkTIFSHrv2186inTZS37DB0Xb3xwv0ZS0u47\n",
       "ohwjnmUQdZwNWOCvYHB3lJ91Zd+8UDHIHF/hV31gNHJG77Dsfp958lUO9cOFOdbRX0xPibA7MAh8\n",
       "pA5GIUWA9U0nWEmotoRBU2+Dla+XStVjO5fVTIw199S+5DPdpNXXrjT/SPsBcxzMbvpkZslPRnHU\n",
       "+OjdMRYI4nvaQ8GB0TsIhZbZZsi45zvHbLVEN7HLaAAAAEdBn/FFETwv/wAG58R3jy+G1MoAJKPQ\n",
       "TMD8xbUpdgpSraenTguX5qOGqWe3/J6K/oOVRa8cfHMVnAkNqCQTDxYPNjmrxcW+6QAAAFsBnhJq\n",
       "Qr8ACW50Ip3YALp3+H/TQc0DZ4hf/qriLQfglHW+vZ/nFhJKPs3N38eowSid/ogPw1w1VeY9tLb3\n",
       "H1tM0cuxp0BUb9yaXfFTTAaq9496HbzJRlCmTi0GAAAAs0GaFEmoQWiZTAh3//6plgAF4TAZeNnl\n",
       "M9YAE60ijCPHCOqqlP8JJz1zYnKRYNv/7SIMsBef0LZEEyumgAIQp12GKp6W7xo7ZqyIVjx+JJn8\n",
       "sIeLbGRKSfK16qATOcaxYYQrURkmfpk6zBePJd6+MFze1oKJZ46flk2VhVflP/yOco4MCvzw/8zm\n",
       "1yoNrdvGHIIXfWc3Nwx2+o2mw2OwTltzf7oFVliyGU/AV8Uk6i0U8gi4AAAAvUGaNknhClJlMFES\n",
       "w7/+qZYAC7sN8MVsQAWvF1DB011T44rmUay00ko9kfNb4E57B5KMnpTNtL/QeRAPT08VXdjiUZNw\n",
       "3lj/TcVEGTmBOgWtDuMhhVNIgGcf9WhQpPLauaMvmST8uy9MlXBMEqNFHSFDcZg7EutQ0iN2OzMj\n",
       "iUngv4O9m660uutkVP+Qx8gNoKnPmu/i9nwTVII0O3KFyE1vyFp2ZWBubuz2G786yKOeDCedFTGL\n",
       "wsIFtSHblQAAAEQBnlVqQr8AEuDK3VgKXlTLHKMAANclkUnzb8BI3cr4/zBv8/u4kmSGYG63hfa3\n",
       "68WPFiAJCMOuWVhDh1gejVMJJVw1JAAAALRBmlhJ4Q6JlMFEw7/+qZYAC7aBwxZbgAvO0F8xwqgS\n",
       "LM5KaLcGLE51isiNjw3GJiB5BK7+5o6yqZCJ54XunhMHLYxlXNNG3Dp2SYrfdDVVg7jN0+Bjktcg\n",
       "fuKrDcs/NFyFyuOH9kdrgaZ8Afbi2eoVnwpThtzeQTbU8O8vvTdwTh0M1pbSfSfJDdWpDaKzp42Y\n",
       "dnAvfwlcJS+akZh+itg2Ts6vUGPN3ezZ4+7DBepXfqhUnW8AAABZAZ53akK/ABNdc/bmHi3oi8VG\n",
       "5ozIASthjk13RPSGdKdj2UpEqgy7BkvzqWiUNCW4rIGH/wdhSQrWDwFkBfbCxmOFqsumzMKgR9Pa\n",
       "gNMW4h1hE2pvcDO4XcEAAACgQZp6SeEPJlMFPDv//qmWAAwXF+et69PSV2iedwovRAADgLLoGEQq\n",
       "vU/OIBbj4OAIvGiUm8nkii4AYlotKXpn35qvuf3y6DPIl3Zvg9cqSWgPPyQaBpjkkDRLVPcSmL39\n",
       "QCDpWyW1CMcLqGRKKUs4ojhl5+6CO4Yjri+gCyGFRDgDWS8Vub/EXvbq5+agvBDqcJPTTAzpYqZM\n",
       "oyAmrs7TQgAAADoBnplqQr8AE2DBJwWYGiKyzFclP0gAfxGQq+1mwAVccVpkr4rZiA6c0YESAEZN\n",
       "+ELs0JKiCkIj/MH5AAAApEGanUnhDyZTAh3//qmWABgIFdEqO6ACTJ0O/CmqsV1unUp9byhFkMCv\n",
       "OKWayuqz+FpP26ZG53Cj/cBdVTcErl0/mKOPToIIapaqVotn46VC1F+lbfTfQkayMbEA0A6nPfNH\n",
       "J5JOr0+L//V+yrbnenZ5J5pBDK+DafIWHcv4zGv5OYz/ju0qgC4mBJ0cFhK34XJjaKnxSrW1LeDk\n",
       "+e1vccpHWI7uAAAATEGeu0URPC//ABxUvsQ7aE1UwaKplCEDJka3BzNCt4FHROXYAKTcSPCN8n6/\n",
       "DG88y7/3ndLgF2dtj3M5gYkIpmRYfTz1Nkhu1ZcatoEAAABHAZ7cakK/ACa50Im9SVyVBalP4hin\n",
       "unezoAPEDHXRxseewt10QcGmv2SxHnSAfB+dvnMeS0sktfbx53pKlLtBmYfJvaA+ixcAAADAQZrf\n",
       "SahBaJlMFPDv/qmWABgjZJCyspBFsmADVp6yCrP7nieHqE6u1L3fvNe+heae0xMXZHMizU3oZ/8I\n",
       "yMaXzB7rplHZYcviZBExNhJ8cBwFzlGBviODugMhNNTeUPTe9AqraEvgG8sAT1GBTw+vWTdIgXVt\n",
       "sKc63+GAbbFNlm5xIBoMPZu/OG4kL5vLweYN+m67Ixv94A904gLQTbmwgF/hdSD2kj68MBl3cK8G\n",
       "k+S4/am+ZmqwEDR5VgSUP3HuAAAASgGe/mpCvwAmqN7fwr71uADwS2Ouvb6je11LeO+8rtsJVa+3\n",
       "3rkmZ8H3P+pW4C4RgPF/UcE3qej8Qv9GubvhOKGUoNGHRctwieL0AAAAykGa4UnhClJlMFLDv/6p\n",
       "lgBgtkXuBiK8nbw5UuE7D5S8uwQEbvoMWXsukcWMXTCcyAaKIN3YkI1DTtl9CSKIouk0Tps9Af9x\n",
       "MsNEqeyak7rVdCgcTq9J0i6zpYyHcYH4QqeutcMal92SSaUzmz4WU6EblNoLUVD5cigEOQjuWpa9\n",
       "leyv+CSBkZ3wJtoo+J5+yMkM7EY/oqUegedpC/FFO4402RI0782V90B6FoUZ2SPRoaZlOrghShjo\n",
       "t9I0CSUzqNoy+BWVs4qscIEAAABOAZ8AakK/AE113L7YXmSEwAADSKdmLqDPqy8/aMhm/u69p3c6\n",
       "CAVmPcaY/q1CY7pwq6aaPI6cvhbnzGmuvjA4epqFm7bcXsvZYFEkJAd0AAAA0EGbA0nhDomUwUTD\n",
       "v/6plgBePlIM5EDhiy3ABrTezoWp4Pl+XG5sx3VMFSm42V82CBfhQScurmmxc5H7SmtfGIuX2byp\n",
       "GdoSqsQYuxFDXTMmNXKjUzXHVXZf8ScSSlQvXwA7Y+SLx/puGAJMDEKHIlqvQxZ0x+Ivl+iiH92A\n",
       "Heu49nZMq2IULJA1Qs9n10/gFmTvlg+11CYYmuxT9Sl82XTthMFbY2cCk/MKnCyR/zSwqjOhWOaQ\n",
       "kEbw3GCyrZSi8CBhGWfk4579ru0BCJ4ZgK0AAABGAZ8iakK/AE1zoR0jWp3As7RYWAA+Bldn24fM\n",
       "JTotjrVqa0bCBydWQHDZj13qhgfRtXY7gSZ0ggcKVvQ4kP5UQBzaljpN0AAAAKJBmyVJ4Q8mUwU8\n",
       "P//+qZYAMBFbanBkAF6jTQf1goFhwXxJXUvHELEdSjEV/6F1L6h59tWv09JU/2Hu6RkkTR8m86Q0\n",
       "rJvX68PXOH9dk01O17GcvuEvxJWV6uu/DslEANzlKJ7DUaeflpkS0+Vt6K9EJ/F4i4qkaGgVk2t4\n",
       "QrUGJ9t3a/SSPu6PB8JxvS0XDbzMVmDC318RWy5bBC0mEIVq34EAAAA8AZ9EakK/AE+rxupE36lf\n",
       "abwANSitNn6xJxb91AW++1TvgF9z7AKWYM5UdnBsxwz1ArbecfFhKJ5/z/DlAAAA/UGbSUnhDyZT\n",
       "Ah///qmWAGM2Uz9dZ46YALVIS/8gVCKIQhAKB8EdsOPMq5+jba0ZmH7tePwea/kjCKQfAThkILHN\n",
       "Um+oNmRktwKzOalFqSjR35kXeuUOVwzsM5iR/wCNhHYlDfEzmoKcQY+873f1XDdsEUiiUKhah38f\n",
       "Kv2Y1iHWpCjJQFwGQWYI9sHYEGIBhSXnXAQ0UEnG31pk9uSfllC50e+zfo4BnVCh5JcTWC4Vln1K\n",
       "b42fI2dSgcQZDzqYms72KUycpEOhTe+vjhinkA5c4S1iTyZ8Vr/lN78/1ND4R8OePvyQp9MDJm1L\n",
       "9cKpNPvebVEa1cEyOmB1Z4EAAAByQZ9nRRE8M/8AVmCzkALePuBN45nZvPIe9U/whPA5NswwyqiS\n",
       "+e7Hm0WYOPu3HJ+H16y6VRYFqSUMe1KKnedLbaOa6tOxePS4tAejT830FhVAewASWWLBAsAd635y\n",
       "zz9DWObfoWRqPCenwrop2FxgJZeBAAAAQgGfhnRCvwCfZDH6sPJIw1IdLfIT4AAhYE157YFx49Ft\n",
       "LpfpYKRIAKXbbpy4EJ1f57z4TmZapm7Of8L7kJ/IgDnq8gAAAEwBn4hqQr8AnwS9p57BmjFEYRn+\n",
       "RQAWraGjhjSwksWW8a01aOHD6p50htB84qAMQP9ZMrmcayatXws45kSqZPNv4Nh4iEsqa3A+Jc6H\n",
       "AAAAtUGbjUmoQWiZTAh///6plgBiotJkAArfx5Wgcv+EU0nHhGhGXjxYYwN87nVqVuJLbEdhKSY3\n",
       "mwJW5k5HO3FOLRpzGExzgSbSbKgAMNqIAx/mfkpG+ZhwlC1+Ts0RQACw9rTUD9cLjuIGyW/KDts5\n",
       "1fPUUpytZiYgTHSAQy2DLRM6Pg4ruQASxi3gL4+V2mb5Hx21zzMLOa8XRs3bFhbfkSV7qCEdv/tL\n",
       "6+JtC9jqecs/JQqb5TUAAACSQZ+rRREsM/8AVlZ8AAHZG62a9hykhKCHojXDzb4z4IQaQ9I3Ou+c\n",
       "XWjRiHOTBsNsRKYHXf/MG3Dc8weiTIOd962GAAR1gOvr4zn0jpAO7j/UIzRpVFv/PY8WPWVyPnv3\n",
       "w9fobEZVIUoV6AeXM7EovcjQNet1zT6d+93460QJsZQKbQ2N1Je07W2WW7DQrrbYulgAAABgAZ/K\n",
       "dEK/AJ6xwSiRFEAEPz1yqpq+Lce2eThGYxdUJCZLqZXCzKumHHQUnd94am/MnOMTQJtXewAAkrp2\n",
       "+GMiXPm8MpIb+a88z5eLBY5NNKpIxufrriQtPoR2u9eDIF3wAAAAUAGfzGpCvwCc8WVCaAD9R/0h\n",
       "c5AA4zfC6/5/3q6u0WVs7y49uAAFmhR7wmxZilofzzD7I74EvGPzWzACkdL0aD0BxTO6ZGpglnCW\n",
       "tTMSA1SxAAAAGUGb0UmoQWyZTAh///6plgAAAwAJT8Y0bEEAAAATQZ/vRRUsM/8AAAMAB++RLlJd\n",
       "nwAAAA8Bng50Qr8AAAMADtcBopAAAAANAZ4QakK/AAADAADFgAAAABZBmhVJqEFsmUwIf//+qZYA\n",
       "AAMAAHhBAAAAEUGeM0UVLDP/AAADAAJq0W2+AAAADQGeUnRCvwAAAwAAxYAAAAANAZ5UakK/AAAD\n",
       "AADFgQAAABZBmllJqEFsmUwId//+qZYAAAMAAHhAAAAAEUGed0UVLDP/AAADAAJq0W2/AAAADQGe\n",
       "lnRCvwAAAwAAxYEAAAANAZ6YakK/AAADAADFgAAAABZBmp1JqEFsmUwId//+qZYAAAMAAHhBAAAA\n",
       "EUGeu0UVLDP/AAADAAJq0W2+AAAADQGe2nRCvwAAAwAAxYEAAAANAZ7cakK/AAADAADFgQAAABVB\n",
       "msFJqEFsmUwIZ//+nhAAAAMAA6YAAAARQZ7/RRUsM/8AAAMAAmrRbb4AAAANAZ8edEK/AAADAADF\n",
       "gQAAAA0BnwBqQr8AAAMAAMWAAAAAFkGbA0moQWyZTBRMK//+OEAAAAMADjkAAAAPAZ8iakK/AAAD\n",
       "AAR4Mzo4AAAHkm1vb3YAAABsbXZoZAAAAAAAAAAAAAAAAAAAA+gAABOIAAEAAAEAAAAAAAAAAAAA\n",
       "AAABAAAAAAAAAAAAAAAAAAAAAQAAAAAAAAAAAAAAAAAAQAAAAAAAAAAAAAAAAAAAAAAAAAAAAAAA\n",
       "AAAAAAAAAAIAAAa8dHJhawAAAFx0a2hkAAAAAwAAAAAAAAAAAAAAAQAAAAAAABOIAAAAAAAAAAAA\n",
       "AAAAAAAAAAABAAAAAAAAAAAAAAAAAAAAAQAAAAAAAAAAAAAAAAAAQAAAAAGwAAABsAAAAAAAJGVk\n",
       "dHMAAAAcZWxzdAAAAAAAAAABAAATiAAABAAAAQAAAAAGNG1kaWEAAAAgbWRoZAAAAAAAAAAAAAAA\n",
       "AAAAKAAAAMgAVcQAAAAAAC1oZGxyAAAAAAAAAAB2aWRlAAAAAAAAAAAAAAAAVmlkZW9IYW5kbGVy\n",
       "AAAABd9taW5mAAAAFHZtaGQAAAABAAAAAAAAAAAAAAAkZGluZgAAABxkcmVmAAAAAAAAAAEAAAAM\n",
       "dXJsIAAAAAEAAAWfc3RibAAAALdzdHNkAAAAAAAAAAEAAACnYXZjMQAAAAAAAAABAAAAAAAAAAAA\n",
       "AAAAAAAAAAGwAbAASAAAAEgAAAAAAAAAAQAAAAAAAAAAAAAAAAAAAAAAAAAAAAAAAAAAAAAAAAAA\n",
       "ABj//wAAADVhdmNDAWQAFf/hABhnZAAVrNlBsN6EAAADAAQAAAMAoDxYtlgBAAZo6+PLIsD9+PgA\n",
       "AAAAHHV1aWRraEDyXyRPxbo5pRvPAyPzAAAAAAAAABhzdHRzAAAAAAAAAAEAAABkAAACAAAAABRz\n",
       "dHNzAAAAAAAAAAEAAAABAAAC4GN0dHMAAAAAAAAAWgAAAAEAAAQAAAAAAQAABgAAAAABAAACAAAA\n",
       "AAIAAAQAAAAAAQAABgAAAAABAAACAAAAAAcAAAQAAAAAAQAABgAAAAABAAACAAAAAAEAAAYAAAAA\n",
       "AQAAAgAAAAABAAAGAAAAAAEAAAIAAAAAAQAABgAAAAABAAACAAAAAAEAAAYAAAAAAQAAAgAAAAAB\n",
       "AAAGAAAAAAEAAAIAAAAAAQAABgAAAAABAAACAAAAAAEAAAYAAAAAAQAAAgAAAAABAAAGAAAAAAEA\n",
       "AAIAAAAAAQAABgAAAAABAAACAAAAAAEAAAYAAAAAAQAAAgAAAAABAAAIAAAAAAIAAAIAAAAAAQAA\n",
       "BgAAAAABAAACAAAAAAEAAAYAAAAAAQAAAgAAAAABAAAGAAAAAAEAAAIAAAAAAQAABgAAAAABAAAC\n",
       "AAAAAAEAAAYAAAAAAQAAAgAAAAABAAAIAAAAAAIAAAIAAAAAAQAABAAAAAABAAAGAAAAAAEAAAIA\n",
       "AAAAAQAABgAAAAABAAACAAAAAAEAAAYAAAAAAQAAAgAAAAABAAAIAAAAAAIAAAIAAAAAAQAABgAA\n",
       "AAABAAACAAAAAAEAAAYAAAAAAQAAAgAAAAABAAAGAAAAAAEAAAIAAAAAAQAABgAAAAABAAACAAAA\n",
       "AAEAAAoAAAAAAQAABAAAAAABAAAAAAAAAAEAAAIAAAAAAQAACgAAAAABAAAEAAAAAAEAAAAAAAAA\n",
       "AQAAAgAAAAABAAAKAAAAAAEAAAQAAAAAAQAAAAAAAAABAAACAAAAAAEAAAoAAAAAAQAABAAAAAAB\n",
       "AAAAAAAAAAEAAAIAAAAAAQAACgAAAAABAAAEAAAAAAEAAAAAAAAAAQAAAgAAAAABAAAKAAAAAAEA\n",
       "AAQAAAAAAQAAAAAAAAABAAACAAAAAAEAAAoAAAAAAQAABAAAAAABAAAAAAAAAAEAAAIAAAAAAQAA\n",
       "BgAAAAABAAACAAAAABxzdHNjAAAAAAAAAAEAAAABAAAAZAAAAAEAAAGkc3RzegAAAAAAAAAAAAAA\n",
       "ZAAAFE0AAAEkAAAAQwAAAM0AAAC5AAAAywAAAEkAAAC4AAAAfgAAALoAAAC4AAAAowAAAMIAAACK\n",
       "AAAAuQAAAEcAAACsAAAAYgAAArYAAAB5AAABHAAAAGIAAAEaAAAAUAAAALcAAABFAAAAxAAAAE8A\n",
       "AADwAAAATgAAALwAAABVAAAAwwAAAEAAAAEGAAAAPgAAAJwAAAA1AAAARwAAANQAAABLAAAAxwAA\n",
       "AFkAAADTAAAAQgAAAOoAAAA8AAAAtAAAAEwAAADkAAAASwAAAF8AAAC3AAAAwQAAAEgAAAC4AAAA\n",
       "XQAAAKQAAAA+AAAAqAAAAFAAAABLAAAAxAAAAE4AAADOAAAAUgAAANQAAABKAAAApgAAAEAAAAEB\n",
       "AAAAdgAAAEYAAABQAAAAuQAAAJYAAABkAAAAVAAAAB0AAAAXAAAAEwAAABEAAAAaAAAAFQAAABEA\n",
       "AAARAAAAGgAAABUAAAARAAAAEQAAABoAAAAVAAAAEQAAABEAAAAZAAAAFQAAABEAAAARAAAAGgAA\n",
       "ABMAAAAUc3RjbwAAAAAAAAABAAAAMAAAAGJ1ZHRhAAAAWm1ldGEAAAAAAAAAIWhkbHIAAAAAAAAA\n",
       "AG1kaXJhcHBsAAAAAAAAAAAAAAAALWlsc3QAAAAlqXRvbwAAAB1kYXRhAAAAAQAAAABMYXZmNTgu\n",
       "NzYuMTAw\n",
       "\">\n",
       "  Your browser does not support the video tag.\n",
       "</video>"
      ],
      "text/plain": [
       "<IPython.core.display.HTML object>"
      ]
     },
     "execution_count": 14,
     "metadata": {},
     "output_type": "execute_result"
    }
   ],
   "source": [
    "interval = 1000*dt\n",
    "ani = animation.FuncAnimation(fig, animate, get_pos, blit=True,\n",
    "                      interval=interval, repeat=False, init_func=init)\n",
    "from IPython.display import HTML\n",
    "HTML(ani.to_html5_video())"
   ]
  },
  {
   "cell_type": "markdown",
   "id": "G8lpeAD2p9S_",
   "metadata": {
    "id": "G8lpeAD2p9S_"
   },
   "source": [
    "Hopefully you will see a blue ball impacting a red ball close to the origin, no matter what initial velocity or angle is imparted to either sphere.\n",
    "\n",
    "---\n",
    "\n"
   ]
  },
  {
   "cell_type": "markdown",
   "id": "tPIBQ8KynZ_R",
   "metadata": {
    "id": "tPIBQ8KynZ_R"
   },
   "source": [
    "\n",
    "\n",
    "One of the examples in the lecture had the following configuration:\n",
    "\n",
    "*   Sphere A: mass $2$kg, speed $8\\rm{ms}^{-1}$, angle of incidence $45^o$.\n",
    "*   Sphere B: mass $2$kg, speed $0\\rm{ms}^{-1}$ (angle of incidence irrelevant).\n",
    "*  Coefficient of restitution $e=0.5$.\n",
    "\n",
    "Rerun the simulation to confirm our post-collision findings in the lecture: \n",
    "\n",
    "$v_A=5.831\\rm{ms}^{-1}$ at angle of $75.96^{o}$, $v_B=4.243\\rm{ms}^{-1}$ at angle of $0^{o}$ (i.e. along the LoC).\n",
    "\n",
    "\n",
    "\n",
    "\n",
    "---\n",
    "\n",
    "\n"
   ]
  },
  {
   "cell_type": "markdown",
   "id": "DvWkNKLapivb",
   "metadata": {
    "id": "DvWkNKLapivb"
   },
   "source": [
    "\n",
    "The second example from the lectures stated\n",
    "\n",
    "*   Sphere A: mass $8$kg, speed $4\\rm{ms}^{-1}$, angle of incidence $30^o$.\n",
    "*   Sphere B: mass $4$kg, speed $2\\rm{ms}^{-1}$, angle of incidence $60^o$.\n",
    "*  Coefficient of restitution $e=1/2$.\n",
    "\n",
    "Rerun the simulation to confirm our post-collision findings in the lecture: \n",
    "\n",
    "$v_A=2.997\\rm{ms}^{-1}$ at angle of $41.86^{o}$, $v_B=3.873\\rm{ms}^{-1}$ at angle of $26.57^{o}$."
   ]
  },
  {
   "cell_type": "code",
   "execution_count": null,
   "id": "N4vRQobws-Zw",
   "metadata": {
    "executionInfo": {
     "elapsed": 8,
     "status": "ok",
     "timestamp": 1646662045855,
     "user": {
      "displayName": "James Threlfall",
      "photoUrl": "https://lh3.googleusercontent.com/a-/AOh14Gh5AMmwJn-QgnyAtyVfjDwEfQL-5FfwAhQ1uZjJ=s64",
      "userId": "12893452708265254015"
     },
     "user_tz": 0
    },
    "id": "N4vRQobws-Zw"
   },
   "outputs": [],
   "source": []
  }
 ],
 "metadata": {
  "colab": {
   "collapsed_sections": [],
   "name": "06_JT_2D_SphereSphere_Collisions.ipynb",
   "provenance": []
  },
  "kernelspec": {
   "display_name": "Python 3 (ipykernel)",
   "language": "python",
   "name": "python3"
  },
  "language_info": {
   "codemirror_mode": {
    "name": "ipython",
    "version": 3
   },
   "file_extension": ".py",
   "mimetype": "text/x-python",
   "name": "python",
   "nbconvert_exporter": "python",
   "pygments_lexer": "ipython3",
   "version": "3.8.9"
  }
 },
 "nbformat": 4,
 "nbformat_minor": 5
}
